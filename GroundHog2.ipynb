{
  "cells": [
    {
      "cell_type": "markdown",
      "id": "14da0d36-5122-4179-a769-d71324a32502",
      "metadata": {
        "id": "14da0d36-5122-4179-a769-d71324a32502"
      },
      "source": [
        "!! Purpose is to notice trends within the temperatures and the shadow of the Punxsutawney Phil to see if it can predict the temperature in February. If it's going to be winter or summer !!"
      ]
    },
    {
      "cell_type": "markdown",
      "id": "Z2yQz4ZxqzoU",
      "metadata": {
        "id": "Z2yQz4ZxqzoU"
      },
      "source": [
        "# 1. Data Preprocessing"
      ]
    },
    {
      "cell_type": "code",
      "execution_count": 1,
      "id": "70b63097-451f-4002-8dfb-185d790cfc55",
      "metadata": {
        "id": "70b63097-451f-4002-8dfb-185d790cfc55"
      },
      "outputs": [],
      "source": [
        "import pandas as pd\n",
        "import numpy as np"
      ]
    },
    {
      "cell_type": "code",
      "execution_count": 2,
      "id": "ead6d8a9-ab50-440f-9feb-dbdb20c75ae5",
      "metadata": {
        "id": "ead6d8a9-ab50-440f-9feb-dbdb20c75ae5"
      },
      "outputs": [],
      "source": [
        "data = pd.read_csv('archive.csv')"
      ]
    },
    {
      "cell_type": "markdown",
      "id": "e1c7db81-ebcb-4c2f-8359-ef0c7e9b4d9f",
      "metadata": {
        "id": "e1c7db81-ebcb-4c2f-8359-ef0c7e9b4d9f"
      },
      "source": [
        "1. To get all the data"
      ]
    },
    {
      "cell_type": "code",
      "execution_count": 3,
      "id": "2988ae1c-9a49-458b-bc56-a507cb7af7ee",
      "metadata": {
        "id": "2988ae1c-9a49-458b-bc56-a507cb7af7ee",
        "outputId": "89225bd1-b928-4aa4-b854-e81936509607",
        "scrolled": true
      },
      "outputs": [
        {
          "data": {
            "text/html": [
              "<div>\n",
              "<style scoped>\n",
              "    .dataframe tbody tr th:only-of-type {\n",
              "        vertical-align: middle;\n",
              "    }\n",
              "\n",
              "    .dataframe tbody tr th {\n",
              "        vertical-align: top;\n",
              "    }\n",
              "\n",
              "    .dataframe thead th {\n",
              "        text-align: right;\n",
              "    }\n",
              "</style>\n",
              "<table border=\"1\" class=\"dataframe\">\n",
              "  <thead>\n",
              "    <tr style=\"text-align: right;\">\n",
              "      <th></th>\n",
              "      <th>Year</th>\n",
              "      <th>Punxsutawney Phil</th>\n",
              "      <th>February Average Temperature</th>\n",
              "      <th>February Average Temperature (Northeast)</th>\n",
              "      <th>February Average Temperature (Midwest)</th>\n",
              "      <th>February Average Temperature (Pennsylvania)</th>\n",
              "      <th>March Average Temperature</th>\n",
              "      <th>March Average Temperature (Northeast)</th>\n",
              "      <th>March Average Temperature (Midwest)</th>\n",
              "      <th>March Average Temperature (Pennsylvania)</th>\n",
              "    </tr>\n",
              "  </thead>\n",
              "  <tbody>\n",
              "    <tr>\n",
              "      <th>0</th>\n",
              "      <td>1886</td>\n",
              "      <td>No Record</td>\n",
              "      <td>NaN</td>\n",
              "      <td>NaN</td>\n",
              "      <td>NaN</td>\n",
              "      <td>NaN</td>\n",
              "      <td>NaN</td>\n",
              "      <td>NaN</td>\n",
              "      <td>NaN</td>\n",
              "      <td>NaN</td>\n",
              "    </tr>\n",
              "    <tr>\n",
              "      <th>1</th>\n",
              "      <td>1887</td>\n",
              "      <td>Full Shadow</td>\n",
              "      <td>NaN</td>\n",
              "      <td>NaN</td>\n",
              "      <td>NaN</td>\n",
              "      <td>NaN</td>\n",
              "      <td>NaN</td>\n",
              "      <td>NaN</td>\n",
              "      <td>NaN</td>\n",
              "      <td>NaN</td>\n",
              "    </tr>\n",
              "    <tr>\n",
              "      <th>2</th>\n",
              "      <td>1888</td>\n",
              "      <td>Full Shadow</td>\n",
              "      <td>NaN</td>\n",
              "      <td>NaN</td>\n",
              "      <td>NaN</td>\n",
              "      <td>NaN</td>\n",
              "      <td>NaN</td>\n",
              "      <td>NaN</td>\n",
              "      <td>NaN</td>\n",
              "      <td>NaN</td>\n",
              "    </tr>\n",
              "    <tr>\n",
              "      <th>3</th>\n",
              "      <td>1889</td>\n",
              "      <td>No Record</td>\n",
              "      <td>NaN</td>\n",
              "      <td>NaN</td>\n",
              "      <td>NaN</td>\n",
              "      <td>NaN</td>\n",
              "      <td>NaN</td>\n",
              "      <td>NaN</td>\n",
              "      <td>NaN</td>\n",
              "      <td>NaN</td>\n",
              "    </tr>\n",
              "    <tr>\n",
              "      <th>4</th>\n",
              "      <td>1890</td>\n",
              "      <td>No Shadow</td>\n",
              "      <td>NaN</td>\n",
              "      <td>NaN</td>\n",
              "      <td>NaN</td>\n",
              "      <td>NaN</td>\n",
              "      <td>NaN</td>\n",
              "      <td>NaN</td>\n",
              "      <td>NaN</td>\n",
              "      <td>NaN</td>\n",
              "    </tr>\n",
              "    <tr>\n",
              "      <th>...</th>\n",
              "      <td>...</td>\n",
              "      <td>...</td>\n",
              "      <td>...</td>\n",
              "      <td>...</td>\n",
              "      <td>...</td>\n",
              "      <td>...</td>\n",
              "      <td>...</td>\n",
              "      <td>...</td>\n",
              "      <td>...</td>\n",
              "      <td>...</td>\n",
              "    </tr>\n",
              "    <tr>\n",
              "      <th>127</th>\n",
              "      <td>2013</td>\n",
              "      <td>No Shadow</td>\n",
              "      <td>34.77</td>\n",
              "      <td>25.3</td>\n",
              "      <td>33.4</td>\n",
              "      <td>27.4</td>\n",
              "      <td>40.91</td>\n",
              "      <td>32.7</td>\n",
              "      <td>37.3</td>\n",
              "      <td>33.9</td>\n",
              "    </tr>\n",
              "    <tr>\n",
              "      <th>128</th>\n",
              "      <td>2014</td>\n",
              "      <td>Full Shadow</td>\n",
              "      <td>32.13</td>\n",
              "      <td>21.0</td>\n",
              "      <td>27.1</td>\n",
              "      <td>22.8</td>\n",
              "      <td>40.51</td>\n",
              "      <td>26.0</td>\n",
              "      <td>38.0</td>\n",
              "      <td>30.3</td>\n",
              "    </tr>\n",
              "    <tr>\n",
              "      <th>129</th>\n",
              "      <td>2015</td>\n",
              "      <td>Full Shadow</td>\n",
              "      <td>32.99</td>\n",
              "      <td>12.1</td>\n",
              "      <td>23.4</td>\n",
              "      <td>16.1</td>\n",
              "      <td>45.39</td>\n",
              "      <td>27.8</td>\n",
              "      <td>41.6</td>\n",
              "      <td>31.6</td>\n",
              "    </tr>\n",
              "    <tr>\n",
              "      <th>130</th>\n",
              "      <td>2016</td>\n",
              "      <td>No Shadow</td>\n",
              "      <td>39.47</td>\n",
              "      <td>28.1</td>\n",
              "      <td>36.9</td>\n",
              "      <td>30.8</td>\n",
              "      <td>47.50</td>\n",
              "      <td>38.8</td>\n",
              "      <td>49.5</td>\n",
              "      <td>43.4</td>\n",
              "    </tr>\n",
              "    <tr>\n",
              "      <th>131</th>\n",
              "      <td>1901-2000</td>\n",
              "      <td>NaN</td>\n",
              "      <td>33.82</td>\n",
              "      <td>22.5</td>\n",
              "      <td>32.9</td>\n",
              "      <td>26.5</td>\n",
              "      <td>41.50</td>\n",
              "      <td>32.3</td>\n",
              "      <td>42.4</td>\n",
              "      <td>35.9</td>\n",
              "    </tr>\n",
              "  </tbody>\n",
              "</table>\n",
              "<p>132 rows × 10 columns</p>\n",
              "</div>"
            ],
            "text/plain": [
              "          Year Punxsutawney Phil  February Average Temperature  \\\n",
              "0         1886         No Record                           NaN   \n",
              "1         1887       Full Shadow                           NaN   \n",
              "2         1888       Full Shadow                           NaN   \n",
              "3         1889         No Record                           NaN   \n",
              "4         1890         No Shadow                           NaN   \n",
              "..         ...               ...                           ...   \n",
              "127       2013         No Shadow                         34.77   \n",
              "128       2014       Full Shadow                         32.13   \n",
              "129       2015       Full Shadow                         32.99   \n",
              "130       2016         No Shadow                         39.47   \n",
              "131  1901-2000               NaN                         33.82   \n",
              "\n",
              "     February Average Temperature (Northeast)  \\\n",
              "0                                         NaN   \n",
              "1                                         NaN   \n",
              "2                                         NaN   \n",
              "3                                         NaN   \n",
              "4                                         NaN   \n",
              "..                                        ...   \n",
              "127                                      25.3   \n",
              "128                                      21.0   \n",
              "129                                      12.1   \n",
              "130                                      28.1   \n",
              "131                                      22.5   \n",
              "\n",
              "     February Average Temperature (Midwest)  \\\n",
              "0                                       NaN   \n",
              "1                                       NaN   \n",
              "2                                       NaN   \n",
              "3                                       NaN   \n",
              "4                                       NaN   \n",
              "..                                      ...   \n",
              "127                                    33.4   \n",
              "128                                    27.1   \n",
              "129                                    23.4   \n",
              "130                                    36.9   \n",
              "131                                    32.9   \n",
              "\n",
              "     February Average Temperature (Pennsylvania)  March Average Temperature  \\\n",
              "0                                            NaN                        NaN   \n",
              "1                                            NaN                        NaN   \n",
              "2                                            NaN                        NaN   \n",
              "3                                            NaN                        NaN   \n",
              "4                                            NaN                        NaN   \n",
              "..                                           ...                        ...   \n",
              "127                                         27.4                      40.91   \n",
              "128                                         22.8                      40.51   \n",
              "129                                         16.1                      45.39   \n",
              "130                                         30.8                      47.50   \n",
              "131                                         26.5                      41.50   \n",
              "\n",
              "     March Average Temperature (Northeast)  \\\n",
              "0                                      NaN   \n",
              "1                                      NaN   \n",
              "2                                      NaN   \n",
              "3                                      NaN   \n",
              "4                                      NaN   \n",
              "..                                     ...   \n",
              "127                                   32.7   \n",
              "128                                   26.0   \n",
              "129                                   27.8   \n",
              "130                                   38.8   \n",
              "131                                   32.3   \n",
              "\n",
              "     March Average Temperature (Midwest)  \\\n",
              "0                                    NaN   \n",
              "1                                    NaN   \n",
              "2                                    NaN   \n",
              "3                                    NaN   \n",
              "4                                    NaN   \n",
              "..                                   ...   \n",
              "127                                 37.3   \n",
              "128                                 38.0   \n",
              "129                                 41.6   \n",
              "130                                 49.5   \n",
              "131                                 42.4   \n",
              "\n",
              "     March Average Temperature (Pennsylvania)  \n",
              "0                                         NaN  \n",
              "1                                         NaN  \n",
              "2                                         NaN  \n",
              "3                                         NaN  \n",
              "4                                         NaN  \n",
              "..                                        ...  \n",
              "127                                      33.9  \n",
              "128                                      30.3  \n",
              "129                                      31.6  \n",
              "130                                      43.4  \n",
              "131                                      35.9  \n",
              "\n",
              "[132 rows x 10 columns]"
            ]
          },
          "execution_count": 3,
          "metadata": {},
          "output_type": "execute_result"
        }
      ],
      "source": [
        "data = pd.read_csv('archive.csv')\n",
        "data"
      ]
    },
    {
      "cell_type": "markdown",
      "id": "286f360e-29c3-40af-b5b5-cd25b93ae792",
      "metadata": {
        "id": "286f360e-29c3-40af-b5b5-cd25b93ae792"
      },
      "source": [
        "2. To view the first rows of dataset"
      ]
    },
    {
      "cell_type": "code",
      "execution_count": 4,
      "id": "8b09f760-7d27-480c-ac29-560e43c3a11a",
      "metadata": {
        "id": "8b09f760-7d27-480c-ac29-560e43c3a11a",
        "outputId": "050d76d6-2e2d-41b8-e2f3-bffecebd0a66"
      },
      "outputs": [
        {
          "data": {
            "text/html": [
              "<div>\n",
              "<style scoped>\n",
              "    .dataframe tbody tr th:only-of-type {\n",
              "        vertical-align: middle;\n",
              "    }\n",
              "\n",
              "    .dataframe tbody tr th {\n",
              "        vertical-align: top;\n",
              "    }\n",
              "\n",
              "    .dataframe thead th {\n",
              "        text-align: right;\n",
              "    }\n",
              "</style>\n",
              "<table border=\"1\" class=\"dataframe\">\n",
              "  <thead>\n",
              "    <tr style=\"text-align: right;\">\n",
              "      <th></th>\n",
              "      <th>Year</th>\n",
              "      <th>Punxsutawney Phil</th>\n",
              "      <th>February Average Temperature</th>\n",
              "      <th>February Average Temperature (Northeast)</th>\n",
              "      <th>February Average Temperature (Midwest)</th>\n",
              "      <th>February Average Temperature (Pennsylvania)</th>\n",
              "      <th>March Average Temperature</th>\n",
              "      <th>March Average Temperature (Northeast)</th>\n",
              "      <th>March Average Temperature (Midwest)</th>\n",
              "      <th>March Average Temperature (Pennsylvania)</th>\n",
              "    </tr>\n",
              "  </thead>\n",
              "  <tbody>\n",
              "    <tr>\n",
              "      <th>0</th>\n",
              "      <td>1886</td>\n",
              "      <td>No Record</td>\n",
              "      <td>NaN</td>\n",
              "      <td>NaN</td>\n",
              "      <td>NaN</td>\n",
              "      <td>NaN</td>\n",
              "      <td>NaN</td>\n",
              "      <td>NaN</td>\n",
              "      <td>NaN</td>\n",
              "      <td>NaN</td>\n",
              "    </tr>\n",
              "    <tr>\n",
              "      <th>1</th>\n",
              "      <td>1887</td>\n",
              "      <td>Full Shadow</td>\n",
              "      <td>NaN</td>\n",
              "      <td>NaN</td>\n",
              "      <td>NaN</td>\n",
              "      <td>NaN</td>\n",
              "      <td>NaN</td>\n",
              "      <td>NaN</td>\n",
              "      <td>NaN</td>\n",
              "      <td>NaN</td>\n",
              "    </tr>\n",
              "    <tr>\n",
              "      <th>2</th>\n",
              "      <td>1888</td>\n",
              "      <td>Full Shadow</td>\n",
              "      <td>NaN</td>\n",
              "      <td>NaN</td>\n",
              "      <td>NaN</td>\n",
              "      <td>NaN</td>\n",
              "      <td>NaN</td>\n",
              "      <td>NaN</td>\n",
              "      <td>NaN</td>\n",
              "      <td>NaN</td>\n",
              "    </tr>\n",
              "    <tr>\n",
              "      <th>3</th>\n",
              "      <td>1889</td>\n",
              "      <td>No Record</td>\n",
              "      <td>NaN</td>\n",
              "      <td>NaN</td>\n",
              "      <td>NaN</td>\n",
              "      <td>NaN</td>\n",
              "      <td>NaN</td>\n",
              "      <td>NaN</td>\n",
              "      <td>NaN</td>\n",
              "      <td>NaN</td>\n",
              "    </tr>\n",
              "    <tr>\n",
              "      <th>4</th>\n",
              "      <td>1890</td>\n",
              "      <td>No Shadow</td>\n",
              "      <td>NaN</td>\n",
              "      <td>NaN</td>\n",
              "      <td>NaN</td>\n",
              "      <td>NaN</td>\n",
              "      <td>NaN</td>\n",
              "      <td>NaN</td>\n",
              "      <td>NaN</td>\n",
              "      <td>NaN</td>\n",
              "    </tr>\n",
              "  </tbody>\n",
              "</table>\n",
              "</div>"
            ],
            "text/plain": [
              "   Year Punxsutawney Phil  February Average Temperature  \\\n",
              "0  1886         No Record                           NaN   \n",
              "1  1887       Full Shadow                           NaN   \n",
              "2  1888       Full Shadow                           NaN   \n",
              "3  1889         No Record                           NaN   \n",
              "4  1890         No Shadow                           NaN   \n",
              "\n",
              "   February Average Temperature (Northeast)  \\\n",
              "0                                       NaN   \n",
              "1                                       NaN   \n",
              "2                                       NaN   \n",
              "3                                       NaN   \n",
              "4                                       NaN   \n",
              "\n",
              "   February Average Temperature (Midwest)  \\\n",
              "0                                     NaN   \n",
              "1                                     NaN   \n",
              "2                                     NaN   \n",
              "3                                     NaN   \n",
              "4                                     NaN   \n",
              "\n",
              "   February Average Temperature (Pennsylvania)  March Average Temperature  \\\n",
              "0                                          NaN                        NaN   \n",
              "1                                          NaN                        NaN   \n",
              "2                                          NaN                        NaN   \n",
              "3                                          NaN                        NaN   \n",
              "4                                          NaN                        NaN   \n",
              "\n",
              "   March Average Temperature (Northeast)  March Average Temperature (Midwest)  \\\n",
              "0                                    NaN                                  NaN   \n",
              "1                                    NaN                                  NaN   \n",
              "2                                    NaN                                  NaN   \n",
              "3                                    NaN                                  NaN   \n",
              "4                                    NaN                                  NaN   \n",
              "\n",
              "   March Average Temperature (Pennsylvania)  \n",
              "0                                       NaN  \n",
              "1                                       NaN  \n",
              "2                                       NaN  \n",
              "3                                       NaN  \n",
              "4                                       NaN  "
            ]
          },
          "execution_count": 4,
          "metadata": {},
          "output_type": "execute_result"
        }
      ],
      "source": [
        "data.head()"
      ]
    },
    {
      "cell_type": "code",
      "execution_count": 5,
      "id": "6f676911-c9ad-48a1-8a05-5d82f1e24741",
      "metadata": {
        "id": "6f676911-c9ad-48a1-8a05-5d82f1e24741"
      },
      "outputs": [],
      "source": [
        "short = data[['Year', 'Punxsutawney Phil', 'February Average Temperature']]\n"
      ]
    },
    {
      "cell_type": "markdown",
      "id": "1e30203b-60fd-42fb-9945-07450213fdf2",
      "metadata": {
        "id": "1e30203b-60fd-42fb-9945-07450213fdf2"
      },
      "source": [
        "3. Filtering Dataframe"
      ]
    },
    {
      "cell_type": "code",
      "execution_count": 6,
      "id": "38aebfba-c8fe-4354-a854-fb0a2d6e8d85",
      "metadata": {
        "id": "38aebfba-c8fe-4354-a854-fb0a2d6e8d85",
        "outputId": "17c27157-bda0-4b0c-b785-2ed0dc0b6b1e"
      },
      "outputs": [
        {
          "data": {
            "text/html": [
              "<div>\n",
              "<style scoped>\n",
              "    .dataframe tbody tr th:only-of-type {\n",
              "        vertical-align: middle;\n",
              "    }\n",
              "\n",
              "    .dataframe tbody tr th {\n",
              "        vertical-align: top;\n",
              "    }\n",
              "\n",
              "    .dataframe thead th {\n",
              "        text-align: right;\n",
              "    }\n",
              "</style>\n",
              "<table border=\"1\" class=\"dataframe\">\n",
              "  <thead>\n",
              "    <tr style=\"text-align: right;\">\n",
              "      <th></th>\n",
              "      <th>Year</th>\n",
              "      <th>Punxsutawney Phil</th>\n",
              "      <th>February Average Temperature</th>\n",
              "    </tr>\n",
              "  </thead>\n",
              "  <tbody>\n",
              "    <tr>\n",
              "      <th>12</th>\n",
              "      <td>1898</td>\n",
              "      <td>Full Shadow</td>\n",
              "      <td>35.37</td>\n",
              "    </tr>\n",
              "    <tr>\n",
              "      <th>14</th>\n",
              "      <td>1900</td>\n",
              "      <td>Full Shadow</td>\n",
              "      <td>30.76</td>\n",
              "    </tr>\n",
              "    <tr>\n",
              "      <th>15</th>\n",
              "      <td>1901</td>\n",
              "      <td>Full Shadow</td>\n",
              "      <td>29.86</td>\n",
              "    </tr>\n",
              "    <tr>\n",
              "      <th>17</th>\n",
              "      <td>1903</td>\n",
              "      <td>Full Shadow</td>\n",
              "      <td>28.42</td>\n",
              "    </tr>\n",
              "    <tr>\n",
              "      <th>18</th>\n",
              "      <td>1904</td>\n",
              "      <td>Full Shadow</td>\n",
              "      <td>31.59</td>\n",
              "    </tr>\n",
              "    <tr>\n",
              "      <th>...</th>\n",
              "      <td>...</td>\n",
              "      <td>...</td>\n",
              "      <td>...</td>\n",
              "    </tr>\n",
              "    <tr>\n",
              "      <th>126</th>\n",
              "      <td>2012</td>\n",
              "      <td>Full Shadow</td>\n",
              "      <td>37.51</td>\n",
              "    </tr>\n",
              "    <tr>\n",
              "      <th>127</th>\n",
              "      <td>2013</td>\n",
              "      <td>No Shadow</td>\n",
              "      <td>34.77</td>\n",
              "    </tr>\n",
              "    <tr>\n",
              "      <th>128</th>\n",
              "      <td>2014</td>\n",
              "      <td>Full Shadow</td>\n",
              "      <td>32.13</td>\n",
              "    </tr>\n",
              "    <tr>\n",
              "      <th>129</th>\n",
              "      <td>2015</td>\n",
              "      <td>Full Shadow</td>\n",
              "      <td>32.99</td>\n",
              "    </tr>\n",
              "    <tr>\n",
              "      <th>130</th>\n",
              "      <td>2016</td>\n",
              "      <td>No Shadow</td>\n",
              "      <td>39.47</td>\n",
              "    </tr>\n",
              "  </tbody>\n",
              "</table>\n",
              "<p>116 rows × 3 columns</p>\n",
              "</div>"
            ],
            "text/plain": [
              "     Year Punxsutawney Phil  February Average Temperature\n",
              "12   1898       Full Shadow                         35.37\n",
              "14   1900       Full Shadow                         30.76\n",
              "15   1901       Full Shadow                         29.86\n",
              "17   1903       Full Shadow                         28.42\n",
              "18   1904       Full Shadow                         31.59\n",
              "..    ...               ...                           ...\n",
              "126  2012       Full Shadow                         37.51\n",
              "127  2013         No Shadow                         34.77\n",
              "128  2014       Full Shadow                         32.13\n",
              "129  2015       Full Shadow                         32.99\n",
              "130  2016         No Shadow                         39.47\n",
              "\n",
              "[116 rows x 3 columns]"
            ]
          },
          "execution_count": 6,
          "metadata": {},
          "output_type": "execute_result"
        }
      ],
      "source": [
        "short = short[short['Punxsutawney Phil'] != \"No Record\"]\n",
        "\n",
        "# Filter out rows with missing values in the 'FebAvgTemp' column\n",
        "short = short[short['February Average Temperature'].notnull()]\n",
        "\n",
        "# Remove the last row (assuming you want to remove the last row)\n",
        "short = short[:-1]\n",
        "\n",
        "# Rename the columns\n",
        "short.columns = ['Year', 'Punxsutawney Phil', 'February Average Temperature']\n",
        "\n",
        "# Display the resulting DataFrame\n",
        "short"
      ]
    },
    {
      "cell_type": "markdown",
      "id": "64d38f5c-f83c-4257-bb7b-75aee698c9a4",
      "metadata": {
        "id": "64d38f5c-f83c-4257-bb7b-75aee698c9a4"
      },
      "source": [
        "4. Graph Plotting, other three i can still do"
      ]
    },
    {
      "cell_type": "code",
      "execution_count": 7,
      "id": "c427fd1c-3481-4aca-ac58-a7dc88c23aec",
      "metadata": {
        "id": "c427fd1c-3481-4aca-ac58-a7dc88c23aec",
        "outputId": "fddc2a47-9b8d-489f-b04f-a5da373a3553"
      },
      "outputs": [
        {
          "data": {
            "text/plain": [
              "<Axes: xlabel='Year'>"
            ]
          },
          "execution_count": 7,
          "metadata": {},
          "output_type": "execute_result"
        },
        {
          "data": {
            "image/png": "[encoded data removed]",
            "text/plain": [
              "<Figure size 640x480 with 1 Axes>"
            ]
          },
          "metadata": {},
          "output_type": "display_data"
        }
      ],
      "source": [
        "short.plot.bar(x = 'Year')"
      ]
    },
    {
      "cell_type": "markdown",
      "id": "92d07314-89c3-4376-8242-044ca27200c6",
      "metadata": {
        "id": "92d07314-89c3-4376-8242-044ca27200c6"
      },
      "source": [
        "5. PREDICTIONS CORRECT: Winter = 32 degrees and no shadow means an early spring, full shadow means 6 more weeks of winter. So here punx would be correct for all top coldest years => prediction lines up with temps that are deemed winter"
      ]
    },
    {
      "cell_type": "code",
      "execution_count": 8,
      "id": "2cf3453f-bf1a-43c1-bbcb-780191ad1a0b",
      "metadata": {
        "id": "2cf3453f-bf1a-43c1-bbcb-780191ad1a0b",
        "outputId": "e696d984-6fbc-41da-c501-158fa85f8014"
      },
      "outputs": [
        {
          "data": {
            "text/html": [
              "<div>\n",
              "<style scoped>\n",
              "    .dataframe tbody tr th:only-of-type {\n",
              "        vertical-align: middle;\n",
              "    }\n",
              "\n",
              "    .dataframe tbody tr th {\n",
              "        vertical-align: top;\n",
              "    }\n",
              "\n",
              "    .dataframe thead th {\n",
              "        text-align: right;\n",
              "    }\n",
              "</style>\n",
              "<table border=\"1\" class=\"dataframe\">\n",
              "  <thead>\n",
              "    <tr style=\"text-align: right;\">\n",
              "      <th></th>\n",
              "      <th>Year</th>\n",
              "      <th>Punxsutawney Phil</th>\n",
              "      <th>February Average Temperature</th>\n",
              "    </tr>\n",
              "  </thead>\n",
              "  <tbody>\n",
              "    <tr>\n",
              "      <th>50</th>\n",
              "      <td>1936</td>\n",
              "      <td>Full Shadow</td>\n",
              "      <td>25.23</td>\n",
              "    </tr>\n",
              "    <tr>\n",
              "      <th>43</th>\n",
              "      <td>1929</td>\n",
              "      <td>Full Shadow</td>\n",
              "      <td>26.92</td>\n",
              "    </tr>\n",
              "    <tr>\n",
              "      <th>19</th>\n",
              "      <td>1905</td>\n",
              "      <td>Full Shadow</td>\n",
              "      <td>26.94</td>\n",
              "    </tr>\n",
              "    <tr>\n",
              "      <th>92</th>\n",
              "      <td>1978</td>\n",
              "      <td>Full Shadow</td>\n",
              "      <td>27.99</td>\n",
              "    </tr>\n",
              "    <tr>\n",
              "      <th>93</th>\n",
              "      <td>1979</td>\n",
              "      <td>Full Shadow</td>\n",
              "      <td>28.13</td>\n",
              "    </tr>\n",
              "  </tbody>\n",
              "</table>\n",
              "</div>"
            ],
            "text/plain": [
              "    Year Punxsutawney Phil  February Average Temperature\n",
              "50  1936       Full Shadow                         25.23\n",
              "43  1929       Full Shadow                         26.92\n",
              "19  1905       Full Shadow                         26.94\n",
              "92  1978       Full Shadow                         27.99\n",
              "93  1979       Full Shadow                         28.13"
            ]
          },
          "execution_count": 8,
          "metadata": {},
          "output_type": "execute_result"
        }
      ],
      "source": [
        "minVals = short.sort_values(by='February Average Temperature')\n",
        "minVals.head()"
      ]
    },
    {
      "cell_type": "markdown",
      "id": "b9ceffca-89aa-428a-b1bf-5b291f597a34",
      "metadata": {
        "id": "b9ceffca-89aa-428a-b1bf-5b291f597a34"
      },
      "source": [
        "6. PREDICTIONS: But here punx would be incorrect every year for the warmest years(should have had predicted no shadow."
      ]
    },
    {
      "cell_type": "code",
      "execution_count": 9,
      "id": "f4cca0b9-2ec7-4e28-aa06-0aac76d701d9",
      "metadata": {
        "id": "f4cca0b9-2ec7-4e28-aa06-0aac76d701d9",
        "outputId": "0b58c55a-9488-4f9f-a4e0-8ba5dd49e6d4"
      },
      "outputs": [
        {
          "data": {
            "text/html": [
              "<div>\n",
              "<style scoped>\n",
              "    .dataframe tbody tr th:only-of-type {\n",
              "        vertical-align: middle;\n",
              "    }\n",
              "\n",
              "    .dataframe tbody tr th {\n",
              "        vertical-align: top;\n",
              "    }\n",
              "\n",
              "    .dataframe thead th {\n",
              "        text-align: right;\n",
              "    }\n",
              "</style>\n",
              "<table border=\"1\" class=\"dataframe\">\n",
              "  <thead>\n",
              "    <tr style=\"text-align: right;\">\n",
              "      <th></th>\n",
              "      <th>Year</th>\n",
              "      <th>Punxsutawney Phil</th>\n",
              "      <th>February Average Temperature</th>\n",
              "    </tr>\n",
              "  </thead>\n",
              "  <tbody>\n",
              "    <tr>\n",
              "      <th>68</th>\n",
              "      <td>1954</td>\n",
              "      <td>Full Shadow</td>\n",
              "      <td>41.41</td>\n",
              "    </tr>\n",
              "    <tr>\n",
              "      <th>44</th>\n",
              "      <td>1930</td>\n",
              "      <td>Full Shadow</td>\n",
              "      <td>40.10</td>\n",
              "    </tr>\n",
              "    <tr>\n",
              "      <th>105</th>\n",
              "      <td>1991</td>\n",
              "      <td>Full Shadow</td>\n",
              "      <td>39.81</td>\n",
              "    </tr>\n",
              "    <tr>\n",
              "      <th>114</th>\n",
              "      <td>2000</td>\n",
              "      <td>Full Shadow</td>\n",
              "      <td>39.78</td>\n",
              "    </tr>\n",
              "    <tr>\n",
              "      <th>106</th>\n",
              "      <td>1992</td>\n",
              "      <td>Full Shadow</td>\n",
              "      <td>39.70</td>\n",
              "    </tr>\n",
              "  </tbody>\n",
              "</table>\n",
              "</div>"
            ],
            "text/plain": [
              "     Year Punxsutawney Phil  February Average Temperature\n",
              "68   1954       Full Shadow                         41.41\n",
              "44   1930       Full Shadow                         40.10\n",
              "105  1991       Full Shadow                         39.81\n",
              "114  2000       Full Shadow                         39.78\n",
              "106  1992       Full Shadow                         39.70"
            ]
          },
          "execution_count": 9,
          "metadata": {},
          "output_type": "execute_result"
        }
      ],
      "source": [
        "maxVals = short.sort_values(by='February Average Temperature', ascending = False)\n",
        "maxVals.head()"
      ]
    },
    {
      "cell_type": "markdown",
      "id": "E5BYk9YsklUC",
      "metadata": {
        "id": "E5BYk9YsklUC"
      },
      "source": [
        "Dependant = want we want to predict"
      ]
    },
    {
      "cell_type": "code",
      "execution_count": 10,
      "id": "s-aNs__ZqgdM",
      "metadata": {
        "id": "s-aNs__ZqgdM"
      },
      "outputs": [],
      "source": [
        "# extract all the independant values - values you want to the algorithm to check (year, phil)\n",
        "# dependant values are temperature\n",
        "# x refers to independant (what i want to check in prediction)"
      ]
    },
    {
      "cell_type": "code",
      "execution_count": 12,
      "id": "MkiKT_mASI7V",
      "metadata": {
        "colab": {
          "base_uri": "https://localhost:8080/"
        },
        "id": "MkiKT_mASI7V",
        "outputId": "0e7a87c2-a762-4fd8-cb8e-c4ee305102f3"
      },
      "outputs": [
        {
          "name": "stdout",
          "output_type": "stream",
          "text": [
            "     Year Punxsutawney Phil  February Average Temperature  \\\n",
            "12   1898       Full Shadow                         35.37   \n",
            "14   1900       Full Shadow                         30.76   \n",
            "15   1901       Full Shadow                         29.86   \n",
            "17   1903       Full Shadow                         28.42   \n",
            "18   1904       Full Shadow                         31.59   \n",
            "..    ...               ...                           ...   \n",
            "126  2012       Full Shadow                         37.51   \n",
            "127  2013         No Shadow                         34.77   \n",
            "128  2014       Full Shadow                         32.13   \n",
            "129  2015       Full Shadow                         32.99   \n",
            "130  2016         No Shadow                         39.47   \n",
            "\n",
            "     February Average Temperature (Northeast)  \\\n",
            "12                                       24.8   \n",
            "14                                       21.4   \n",
            "15                                       16.0   \n",
            "17                                       24.5   \n",
            "18                                       15.0   \n",
            "..                                        ...   \n",
            "126                                      30.6   \n",
            "127                                      25.3   \n",
            "128                                      21.0   \n",
            "129                                      12.1   \n",
            "130                                      28.1   \n",
            "\n",
            "     February Average Temperature (Midwest)  \\\n",
            "12                                     33.3   \n",
            "14                                     27.5   \n",
            "15                                     26.2   \n",
            "17                                     31.3   \n",
            "18                                     28.2   \n",
            "..                                      ...   \n",
            "126                                    38.6   \n",
            "127                                    33.4   \n",
            "128                                    27.1   \n",
            "129                                    23.4   \n",
            "130                                    36.9   \n",
            "\n",
            "     February Average Temperature (Pennsylvania)  March Average Temperature  \\\n",
            "12                                          26.7                      41.05   \n",
            "14                                          24.1                      41.27   \n",
            "15                                          18.9                      40.71   \n",
            "17                                          28.0                      42.21   \n",
            "18                                          19.2                      41.76   \n",
            "..                                           ...                        ...   \n",
            "126                                         34.3                      50.41   \n",
            "127                                         27.4                      40.91   \n",
            "128                                         22.8                      40.51   \n",
            "129                                         16.1                      45.39   \n",
            "130                                         30.8                      47.50   \n",
            "\n",
            "     March Average Temperature (Northeast)  \\\n",
            "12                                    38.0   \n",
            "14                                    26.0   \n",
            "15                                    30.8   \n",
            "17                                    40.4   \n",
            "18                                    29.8   \n",
            "..                                     ...   \n",
            "126                                   43.4   \n",
            "127                                   32.7   \n",
            "128                                   26.0   \n",
            "129                                   27.8   \n",
            "130                                   38.8   \n",
            "\n",
            "     March Average Temperature (Midwest)  \\\n",
            "12                                  46.0   \n",
            "14                                  37.9   \n",
            "15                                  41.9   \n",
            "17                                  47.7   \n",
            "18                                  42.8   \n",
            "..                                   ...   \n",
            "126                                 56.3   \n",
            "127                                 37.3   \n",
            "128                                 38.0   \n",
            "129                                 41.6   \n",
            "130                                 49.5   \n",
            "\n",
            "     March Average Temperature (Pennsylvania)  \n",
            "12                                       42.0  \n",
            "14                                       29.3  \n",
            "15                                       35.1  \n",
            "17                                       44.5  \n",
            "18                                       34.0  \n",
            "..                                        ...  \n",
            "126                                      47.7  \n",
            "127                                      33.9  \n",
            "128                                      30.3  \n",
            "129                                      31.6  \n",
            "130                                      43.4  \n",
            "\n",
            "[116 rows x 10 columns]\n"
          ]
        }
      ],
      "source": [
        "import pandas as pd\n",
        "\n",
        "# Load your data from the \"archive.csv\" file\n",
        "short = pd.read_csv('archive.csv')\n",
        "\n",
        "# Perform the preprocessing steps on the loaded data\n",
        "short = short[short['Punxsutawney Phil'] != \"No Record\"]\n",
        "short = short[short['February Average Temperature'].notnull()]\n",
        "short = short[:-1]\n",
        "short = short.rename(columns={'year': 'Year', 'Punxsutawney Phil': 'Punxsutawney Phil', 'February Average Temperature': 'February Average Temperature'})\n",
        "\n",
        "\n",
        "# Display the resulting DataFrame\n",
        "print(short)\n"
      ]
    },
    {
      "cell_type": "markdown",
      "id": "6SJwTlICqlBV",
      "metadata": {
        "id": "6SJwTlICqlBV"
      },
      "source": [
        "# 2. Data Splitting\n"
      ]
    },
    {
      "cell_type": "code",
      "execution_count": 13,
      "id": "eTidygvGsIMT",
      "metadata": {
        "colab": {
          "base_uri": "https://localhost:8080/"
        },
        "id": "eTidygvGsIMT",
        "outputId": "53be9235-9a20-4c3a-e9e9-a3dd419ce32b"
      },
      "outputs": [
        {
          "name": "stdout",
          "output_type": "stream",
          "text": [
            "c:\\Users\\anchi\\OneDrive\\Documents\\GitHub\\finalGroundHog\n"
          ]
        }
      ],
      "source": [
        "import os\n",
        "print(os.getcwd())  # Print the current working directory\n"
      ]
    },
    {
      "cell_type": "code",
      "execution_count": 14,
      "id": "rW1uhoVb-KpM",
      "metadata": {
        "colab": {
          "base_uri": "https://localhost:8080/"
        },
        "id": "rW1uhoVb-KpM",
        "outputId": "e1f1f71c-d366-4514-bc46-8434dfaef7e9"
      },
      "outputs": [
        {
          "name": "stdout",
          "output_type": "stream",
          "text": [
            "X_train shape: (105, 4)\n",
            "y_train shape: (105,)\n",
            "X_val shape: (27, 4)\n",
            "y_val shape: (27,)\n"
          ]
        }
      ],
      "source": [
        "from sklearn.model_selection import train_test_split\n",
        "\n",
        "# Define Features (X) and Target (y)\n",
        "X = data[['February Average Temperature', 'February Average Temperature (Northeast)', 'February Average Temperature (Midwest)', 'February Average Temperature (Pennsylvania)']]\n",
        "y = data['Punxsutawney Phil']\n",
        "\n",
        "# Split the data into training and validation sets\n",
        "X_train, X_val, y_train, y_val = train_test_split(X, y, test_size=0.2, random_state=42)\n",
        "\n",
        "print(\"X_train shape:\", X_train.shape)\n",
        "print(\"y_train shape:\", y_train.shape)\n",
        "print(\"X_val shape:\", X_val.shape)\n",
        "print(\"y_val shape:\", y_val.shape)\n",
        "\n"
      ]
    },
    {
      "cell_type": "markdown",
      "id": "bjMeEplM--cY",
      "metadata": {
        "id": "bjMeEplM--cY"
      },
      "source": [
        "* To imute missing values - fill in the missing values with appropriate values, such as the mean, median, or mode of the respective column\n"
      ]
    },
    {
      "cell_type": "markdown",
      "id": "i60p0mc3H5xC",
      "metadata": {
        "id": "i60p0mc3H5xC"
      },
      "source": [
        "* Remove missing values (NaN)"
      ]
    },
    {
      "cell_type": "code",
      "execution_count": 15,
      "id": "ryMLxibI-vFp",
      "metadata": {
        "colab": {
          "base_uri": "https://localhost:8080/"
        },
        "id": "ryMLxibI-vFp",
        "outputId": "404e522e-6bd2-4ff9-8fde-ca31e79f86c7"
      },
      "outputs": [
        {
          "name": "stdout",
          "output_type": "stream",
          "text": [
            "Imputed Training Data (X_train_imputed):\n",
            "[[36.59       30.3        34.1        30.7       ]\n",
            " [32.59       22.9        30.4        26.9       ]\n",
            " [33.9542268  22.98453608 32.81237113 26.75773196]\n",
            " [35.37       24.8        33.3        26.7       ]\n",
            " [37.51       30.6        38.6        34.3       ]\n",
            " [32.27       25.6        36.1        29.8       ]\n",
            " [29.3        20.6        28.5        23.8       ]\n",
            " [31.24       23.2        31.9        26.5       ]\n",
            " [39.78       27.2        40.1        31.6       ]\n",
            " [31.73       26.3        32.2        28.5       ]\n",
            " [29.86       16.         26.2        18.9       ]\n",
            " [31.77       21.6        30.9        23.6       ]\n",
            " [41.41       30.         41.1        33.6       ]\n",
            " [33.01       18.4        31.2        22.1       ]\n",
            " [37.94       24.2        38.         29.        ]\n",
            " [35.46       26.4        37.5        30.6       ]\n",
            " [32.76       24.7        33.5        28.8       ]\n",
            " [33.03       18.9        30.1        22.8       ]\n",
            " [34.7        25.4        32.1        27.7       ]\n",
            " [33.48       23.9        31.8        27.5       ]\n",
            " [26.6        15.6        21.9        17.        ]\n",
            " [32.25       25.4        34.1        29.6       ]\n",
            " [35.87       28.         37.4        31.8       ]\n",
            " [33.66       21.4        37.5        28.5       ]\n",
            " [35.85       22.3        34.3        26.7       ]\n",
            " [29.52       14.5        26.3        18.7       ]\n",
            " [32.85       20.         26.6        23.        ]\n",
            " [28.13       13.9        22.9        16.4       ]\n",
            " [29.98       24.9        34.         30.2       ]\n",
            " [33.9542268  22.98453608 32.81237113 26.75773196]\n",
            " [31.05       24.2        33.4        27.3       ]\n",
            " [37.94       26.2        38.1        30.1       ]\n",
            " [38.3        29.2        38.7        32.8       ]\n",
            " [36.01       21.1        35.         25.8       ]\n",
            " [36.9        25.1        37.6        30.        ]\n",
            " [31.46       20.1        23.6        21.        ]\n",
            " [34.12       16.2        26.3        18.4       ]\n",
            " [33.69       19.6        31.5        23.        ]\n",
            " [36.77       26.2        35.9        29.6       ]\n",
            " [33.9542268  22.98453608 32.81237113 26.75773196]\n",
            " [26.92       21.7        26.2        24.7       ]\n",
            " [32.49       20.6        33.7        27.        ]\n",
            " [39.81       28.7        37.4        32.4       ]\n",
            " [36.05       28.6        37.7        33.        ]\n",
            " [33.9542268  22.98453608 32.81237113 26.75773196]\n",
            " [25.5        18.1        22.2        20.        ]\n",
            " [39.47       28.1        36.9        30.8       ]\n",
            " [33.9542268  22.98453608 32.81237113 26.75773196]\n",
            " [28.42       24.5        31.3        28.        ]\n",
            " [35.19       18.3        31.7        23.9       ]\n",
            " [31.98       17.9        24.5        20.4       ]\n",
            " [31.8        25.9        28.2        25.8       ]\n",
            " [33.9542268  22.98453608 32.81237113 26.75773196]\n",
            " [35.35       22.5        31.3        25.3       ]\n",
            " [39.49       28.2        39.5        31.7       ]\n",
            " [36.7        28.         39.9        33.9       ]\n",
            " [33.85       22.3        31.9        26.3       ]\n",
            " [25.23       15.6        24.         18.3       ]\n",
            " [37.36       20.6        32.6        23.9       ]\n",
            " [36.7        25.7        41.         32.6       ]\n",
            " [36.86       26.2        35.9        29.8       ]\n",
            " [31.41       20.5        25.7        21.7       ]\n",
            " [32.99       12.1        23.4        16.1       ]\n",
            " [32.52       22.1        31.8        26.2       ]\n",
            " [33.98       26.         36.1        31.5       ]\n",
            " [36.03       23.2        31.5        26.1       ]\n",
            " [37.9        26.2        40.4        32.        ]\n",
            " [34.5        22.4        36.3        27.5       ]\n",
            " [39.56       28.8        41.1        33.5       ]\n",
            " [34.32       10.4        27.2        15.2       ]\n",
            " [34.74       21.7        34.5        26.2       ]\n",
            " [38.71       31.6        40.9        35.8       ]\n",
            " [36.28       23.9        35.4        27.6       ]\n",
            " [37.42       24.6        37.3        28.9       ]\n",
            " [33.82       19.8        34.1        25.7       ]\n",
            " [33.04       24.1        34.4        28.6       ]\n",
            " [35.28       23.6        33.9        27.1       ]\n",
            " [31.91       28.         36.3        32.9       ]\n",
            " [35.69       23.6        33.4        27.        ]\n",
            " [29.57       16.2        29.1        22.1       ]\n",
            " [35.94       26.7        37.6        30.6       ]\n",
            " [31.14       17.5        30.5        23.5       ]\n",
            " [33.57       24.         33.1        27.        ]\n",
            " [33.9542268  22.98453608 32.81237113 26.75773196]\n",
            " [36.         26.         40.2        31.4       ]\n",
            " [35.46       15.2        31.5        20.1       ]\n",
            " [33.9542268  22.98453608 32.81237113 26.75773196]\n",
            " [35.02       26.4        37.2        32.9       ]\n",
            " [29.17       23.         28.6        27.1       ]\n",
            " [30.87       24.8        28.4        27.1       ]\n",
            " [36.39       29.7        36.8        33.9       ]\n",
            " [33.58       21.8        32.7        25.5       ]\n",
            " [34.83       26.2        33.7        29.8       ]\n",
            " [30.52       26.9        29.8        28.6       ]\n",
            " [33.55       20.1        31.5        23.2       ]\n",
            " [32.92       18.4        27.3        22.3       ]\n",
            " [32.41       18.         26.1        20.1       ]\n",
            " [33.82       22.5        32.9        26.5       ]\n",
            " [33.69       22.         30.7        25.3       ]\n",
            " [34.88       21.4        36.5        27.4       ]\n",
            " [38.07       27.3        38.6        31.4       ]\n",
            " [39.7        25.7        39.5        30.9       ]\n",
            " [30.76       21.4        27.5        24.1       ]\n",
            " [27.99       15.6        20.3        17.2       ]\n",
            " [33.69       23.7        30.4        26.8       ]]\n"
          ]
        }
      ],
      "source": [
        "from sklearn.impute import SimpleImputer\n",
        "\n",
        "# Initialize the imputer with a strategy (e.g., 'mean')\n",
        "imputer = SimpleImputer(strategy='mean')\n",
        "\n",
        "# Fit and transform the imputer on your training data\n",
        "X_train_imputed = imputer.fit_transform(X_train)\n",
        "\n",
        "# Now, X_train_imputed contains no missing values, and you can use it for training\n",
        "\n",
        "print(\"Imputed Training Data (X_train_imputed):\")\n",
        "print(X_train_imputed)"
      ]
    },
    {
      "cell_type": "code",
      "execution_count": 16,
      "id": "c06W-n0J_O4z",
      "metadata": {
        "colab": {
          "base_uri": "https://localhost:8080/"
        },
        "id": "c06W-n0J_O4z",
        "outputId": "6880c978-eecc-4654-cec2-b1529eadbdf0"
      },
      "outputs": [
        {
          "name": "stdout",
          "output_type": "stream",
          "text": [
            "Training Data After Dropping Samples (X_train):\n",
            "     February Average Temperature  February Average Temperature (Northeast)  \\\n",
            "95                          36.59                                      30.3   \n",
            "96                          32.59                                      22.9   \n",
            "12                          35.37                                      24.8   \n",
            "126                         37.51                                      30.6   \n",
            "70                          32.27                                      25.6   \n",
            "..                            ...                                       ...   \n",
            "71                          38.07                                      27.3   \n",
            "106                         39.70                                      25.7   \n",
            "14                          30.76                                      21.4   \n",
            "92                          27.99                                      15.6   \n",
            "102                         33.69                                      23.7   \n",
            "\n",
            "     February Average Temperature (Midwest)  \\\n",
            "95                                     34.1   \n",
            "96                                     30.4   \n",
            "12                                     33.3   \n",
            "126                                    38.6   \n",
            "70                                     36.1   \n",
            "..                                      ...   \n",
            "71                                     38.6   \n",
            "106                                    39.5   \n",
            "14                                     27.5   \n",
            "92                                     20.3   \n",
            "102                                    30.4   \n",
            "\n",
            "     February Average Temperature (Pennsylvania)  \n",
            "95                                          30.7  \n",
            "96                                          26.9  \n",
            "12                                          26.7  \n",
            "126                                         34.3  \n",
            "70                                          29.8  \n",
            "..                                           ...  \n",
            "71                                          31.4  \n",
            "106                                         30.9  \n",
            "14                                          24.1  \n",
            "92                                          17.2  \n",
            "102                                         26.8  \n",
            "\n",
            "[97 rows x 4 columns]\n"
          ]
        }
      ],
      "source": [
        "X_train.dropna(axis=0, inplace=True)\n",
        "y_train = y_train[X_train.index]  # Align target variable\n",
        "\n",
        "# Now, X_train and y_train have no missing values, but some rows are dropped\n",
        "\n",
        "# print the resulting dataset after dropping samples\n",
        "print(\"Training Data After Dropping Samples (X_train):\")\n",
        "print(X_train)"
      ]
    },
    {
      "cell_type": "code",
      "execution_count": 17,
      "id": "Yr5J0l7zPq9-",
      "metadata": {
        "colab": {
          "base_uri": "https://localhost:8080/"
        },
        "id": "Yr5J0l7zPq9-",
        "outputId": "3ea56f7f-7b20-4410-f6d8-b7ed9761549b"
      },
      "outputs": [
        {
          "name": "stdout",
          "output_type": "stream",
          "text": [
            "Training set dimensions: (105, 9) (105,)\n",
            "Validation set dimensions: (27, 9) (27,)\n"
          ]
        }
      ],
      "source": [
        "from sklearn.model_selection import train_test_split\n",
        "\n",
        "# Assuming 'data' is your preprocessed DataFrame\n",
        "X = data.drop('Punxsutawney Phil', axis=1)  # Features\n",
        "y = data['Punxsutawney Phil']  # Target variable\n",
        "\n",
        "X_train, X_val, y_train, y_val = train_test_split(X, y, test_size=0.2, random_state=42)\n",
        "\n",
        "print(\"Training set dimensions:\", X_train.shape, y_train.shape)\n",
        "print(\"Validation set dimensions:\", X_val.shape, y_val.shape)\n"
      ]
    },
    {
      "cell_type": "code",
      "execution_count": 18,
      "id": "kXMTDwhPVTq8",
      "metadata": {
        "id": "kXMTDwhPVTq8"
      },
      "outputs": [],
      "source": [
        "\n",
        "# Check for missing values in the 'Year' column\n",
        "missing_years = X_train['Year'].isnull()\n",
        "\n",
        "# Remove rows with missing 'Year' values\n",
        "X_train = X_train[~missing_years]\n"
      ]
    },
    {
      "cell_type": "code",
      "execution_count": 19,
      "id": "QMZR8MtSWTFz",
      "metadata": {
        "id": "QMZR8MtSWTFz"
      },
      "outputs": [],
      "source": [
        "# Fill NaN values in 'Year' with a default value (e.g., 0)\n",
        "X_train['Year'] = X_train['Year'].fillna('0')\n",
        "\n",
        "# Split the 'Year' column into 'Start_Year' and 'End_Year' and convert to integers\n",
        "X_train['Start_Year'] = X_train['Year'].str.split('-').str[0].astype(int)\n",
        "\n",
        "\n",
        "# Drop the original 'Year' column\n",
        "X_train = X_train.drop('Year', axis=1)\n"
      ]
    },
    {
      "cell_type": "code",
      "execution_count": 21,
      "id": "wt9TzZCrICbG",
      "metadata": {
        "id": "wt9TzZCrICbG"
      },
      "outputs": [],
      "source": [
        "data = pd.read_csv('archive.csv')\n",
        "\n",
        "# Separate features (X) and the target variable (y)\n",
        "X_train = data.drop(columns=['Punxsutawney Phil'])  # Replace 'Punxsutawney Phil' with the actual name of your target column\n",
        "y_train = data['Punxsutawney Phil']  # Replace 'Punxsutawney Phil' with the actual name of your target column\n",
        "\n",
        "# Now you have X_train (features) and y_train (target variable) defined\n"
      ]
    },
    {
      "cell_type": "code",
      "execution_count": 22,
      "id": "jYkAS4MpIaYC",
      "metadata": {
        "id": "jYkAS4MpIaYC"
      },
      "outputs": [],
      "source": [
        "# Remove rows with missing target values in y_train and keep the aligned rows in X_train\n",
        "y_train = y_train[~X_train.isnull().any(axis=1)]\n",
        "X_train = X_train.dropna(axis=0)\n",
        "\n",
        "# Now, both X_train and y_train will not contain any rows with missing values\n"
      ]
    },
    {
      "cell_type": "markdown",
      "id": "oxO-ASrcIzmz",
      "metadata": {
        "id": "oxO-ASrcIzmz"
      },
      "source": [
        "* Handled missed Values\n",
        "* Now split data"
      ]
    },
    {
      "cell_type": "code",
      "execution_count": 23,
      "id": "b6hVLl2DIw0m",
      "metadata": {
        "id": "b6hVLl2DIw0m"
      },
      "outputs": [],
      "source": [
        "from sklearn.model_selection import train_test_split\n",
        "\n",
        "X_train, X_val, y_train, y_val = train_test_split(X_train, y_train, test_size=0.2, random_state=42)\n"
      ]
    },
    {
      "cell_type": "markdown",
      "id": "UsEcdbZUJzgc",
      "metadata": {
        "id": "UsEcdbZUJzgc"
      },
      "source": [
        "* 'Year' column cause conversion issues - therefore range value properly"
      ]
    },
    {
      "cell_type": "code",
      "execution_count": 24,
      "id": "7kxptHJ-JxPJ",
      "metadata": {
        "id": "7kxptHJ-JxPJ"
      },
      "outputs": [],
      "source": [
        "# Fill NaN values in 'Year' with a default value (e.g., 0)\n",
        "X_train['Year'] = X_train['Year'].fillna('0')\n",
        "\n",
        "# Replace the range '1901-2000' with the midpoint value '1950'\n",
        "X_train['Year'] = X_train['Year'].replace('1901-2000', '1950').astype(int)\n"
      ]
    },
    {
      "cell_type": "markdown",
      "id": "w-I3awEzKYgD",
      "metadata": {
        "id": "w-I3awEzKYgD"
      },
      "source": [
        "* Still getting NaN for y_train - drop the corresponding rows in X_train to keep the data aligned"
      ]
    },
    {
      "cell_type": "code",
      "execution_count": 25,
      "id": "FpywSREvKW0G",
      "metadata": {
        "colab": {
          "base_uri": "https://localhost:8080/"
        },
        "id": "FpywSREvKW0G",
        "outputId": "9a8ba680-1d5e-4e54-b324-c64da0905f69"
      },
      "outputs": [
        {
          "name": "stdout",
          "output_type": "stream",
          "text": [
            "1\n"
          ]
        }
      ],
      "source": [
        "# Remove rows with missing target values in y_train and keep the aligned rows in X_train\n",
        "y_train = y_train[~X_train.isnull().any(axis=1)]\n",
        "X_train = X_train.dropna(axis=0)\n",
        "\n",
        "print(y_train.isnull().sum())\n",
        "\n"
      ]
    },
    {
      "cell_type": "markdown",
      "id": "j6NcL-TZLND-",
      "metadata": {
        "id": "j6NcL-TZLND-"
      },
      "source": [
        "* Still 1 missing value"
      ]
    },
    {
      "cell_type": "code",
      "execution_count": 26,
      "id": "6y46cRHiLEbt",
      "metadata": {
        "id": "6y46cRHiLEbt"
      },
      "outputs": [],
      "source": [
        "y_train = y_train.dropna()\n",
        "X_train = X_train.dropna()\n"
      ]
    },
    {
      "cell_type": "markdown",
      "id": "hyGiUQ99Lc96",
      "metadata": {
        "id": "hyGiUQ99Lc96"
      },
      "source": [
        "* Successful both are 0"
      ]
    },
    {
      "cell_type": "code",
      "execution_count": 27,
      "id": "hqmLV2pxLVIU",
      "metadata": {
        "colab": {
          "base_uri": "https://localhost:8080/"
        },
        "id": "hqmLV2pxLVIU",
        "outputId": "2b800fa8-e01c-4e39-8af2-230b92791367"
      },
      "outputs": [
        {
          "name": "stdout",
          "output_type": "stream",
          "text": [
            "Number of missing values in X_train: 0\n",
            "Number of missing values in y_train: 0\n"
          ]
        }
      ],
      "source": [
        "# Check for missing values in X_train\n",
        "missing_values_X = X_train.isnull().sum().sum()\n",
        "print(f\"Number of missing values in X_train: {missing_values_X}\")\n",
        "\n",
        "# Check for missing values in y_train\n",
        "missing_values_y = y_train.isnull().sum()\n",
        "print(f\"Number of missing values in y_train: {missing_values_y}\")\n"
      ]
    },
    {
      "cell_type": "markdown",
      "id": "Zx1CZUS0Myid",
      "metadata": {
        "id": "Zx1CZUS0Myid"
      },
      "source": [
        "*  dropped some rows from X_train that had missing values. But didn't update y_train to reflect the same row removals -  update y_train to match the rows in X_train"
      ]
    },
    {
      "cell_type": "code",
      "execution_count": 28,
      "id": "rBPs9sMVMVHv",
      "metadata": {
        "id": "rBPs9sMVMVHv"
      },
      "outputs": [],
      "source": [
        "X_train, y_train = X_train.align(y_train, join='inner', axis=0)\n"
      ]
    },
    {
      "cell_type": "markdown",
      "id": "_ie8mo0UDHyu",
      "metadata": {
        "id": "_ie8mo0UDHyu"
      },
      "source": [
        "# 3. Select Machine Learning Algorithm"
      ]
    },
    {
      "cell_type": "code",
      "execution_count": 29,
      "id": "vVR1_rTHDP2f",
      "metadata": {
        "id": "vVR1_rTHDP2f"
      },
      "outputs": [],
      "source": [
        "from sklearn.ensemble import RandomForestClassifier\n",
        "model = RandomForestClassifier(random_state=42)\n"
      ]
    },
    {
      "cell_type": "markdown",
      "id": "FYYXhUwFDtoe",
      "metadata": {
        "id": "FYYXhUwFDtoe"
      },
      "source": [
        "# 4. Model Training - RandomForestClassifier"
      ]
    },
    {
      "cell_type": "code",
      "execution_count": 30,
      "id": "vuumGI8qNd4y",
      "metadata": {
        "colab": {
          "base_uri": "https://localhost:8080/",
          "height": 74
        },
        "id": "vuumGI8qNd4y",
        "outputId": "e28c5eed-1a31-4606-8aea-e24fd9e766c0"
      },
      "outputs": [
        {
          "data": {
            "text/html": [
              "<style>#sk-container-id-1 {color: black;}#sk-container-id-1 pre{padding: 0;}#sk-container-id-1 div.sk-toggleable {background-color: white;}#sk-container-id-1 label.sk-toggleable__label {cursor: pointer;display: block;width: 100%;margin-bottom: 0;padding: 0.3em;box-sizing: border-box;text-align: center;}#sk-container-id-1 label.sk-toggleable__label-arrow:before {content: \"▸\";float: left;margin-right: 0.25em;color: #696969;}#sk-container-id-1 label.sk-toggleable__label-arrow:hover:before {color: black;}#sk-container-id-1 div.sk-estimator:hover label.sk-toggleable__label-arrow:before {color: black;}#sk-container-id-1 div.sk-toggleable__content {max-height: 0;max-width: 0;overflow: hidden;text-align: left;background-color: #f0f8ff;}#sk-container-id-1 div.sk-toggleable__content pre {margin: 0.2em;color: black;border-radius: 0.25em;background-color: #f0f8ff;}#sk-container-id-1 input.sk-toggleable__control:checked~div.sk-toggleable__content {max-height: 200px;max-width: 100%;overflow: auto;}#sk-container-id-1 input.sk-toggleable__control:checked~label.sk-toggleable__label-arrow:before {content: \"▾\";}#sk-container-id-1 div.sk-estimator input.sk-toggleable__control:checked~label.sk-toggleable__label {background-color: #d4ebff;}#sk-container-id-1 div.sk-label input.sk-toggleable__control:checked~label.sk-toggleable__label {background-color: #d4ebff;}#sk-container-id-1 input.sk-hidden--visually {border: 0;clip: rect(1px 1px 1px 1px);clip: rect(1px, 1px, 1px, 1px);height: 1px;margin: -1px;overflow: hidden;padding: 0;position: absolute;width: 1px;}#sk-container-id-1 div.sk-estimator {font-family: monospace;background-color: #f0f8ff;border: 1px dotted black;border-radius: 0.25em;box-sizing: border-box;margin-bottom: 0.5em;}#sk-container-id-1 div.sk-estimator:hover {background-color: #d4ebff;}#sk-container-id-1 div.sk-parallel-item::after {content: \"\";width: 100%;border-bottom: 1px solid gray;flex-grow: 1;}#sk-container-id-1 div.sk-label:hover label.sk-toggleable__label {background-color: #d4ebff;}#sk-container-id-1 div.sk-serial::before {content: \"\";position: absolute;border-left: 1px solid gray;box-sizing: border-box;top: 0;bottom: 0;left: 50%;z-index: 0;}#sk-container-id-1 div.sk-serial {display: flex;flex-direction: column;align-items: center;background-color: white;padding-right: 0.2em;padding-left: 0.2em;position: relative;}#sk-container-id-1 div.sk-item {position: relative;z-index: 1;}#sk-container-id-1 div.sk-parallel {display: flex;align-items: stretch;justify-content: center;background-color: white;position: relative;}#sk-container-id-1 div.sk-item::before, #sk-container-id-1 div.sk-parallel-item::before {content: \"\";position: absolute;border-left: 1px solid gray;box-sizing: border-box;top: 0;bottom: 0;left: 50%;z-index: -1;}#sk-container-id-1 div.sk-parallel-item {display: flex;flex-direction: column;z-index: 1;position: relative;background-color: white;}#sk-container-id-1 div.sk-parallel-item:first-child::after {align-self: flex-end;width: 50%;}#sk-container-id-1 div.sk-parallel-item:last-child::after {align-self: flex-start;width: 50%;}#sk-container-id-1 div.sk-parallel-item:only-child::after {width: 0;}#sk-container-id-1 div.sk-dashed-wrapped {border: 1px dashed gray;margin: 0 0.4em 0.5em 0.4em;box-sizing: border-box;padding-bottom: 0.4em;background-color: white;}#sk-container-id-1 div.sk-label label {font-family: monospace;font-weight: bold;display: inline-block;line-height: 1.2em;}#sk-container-id-1 div.sk-label-container {text-align: center;}#sk-container-id-1 div.sk-container {/* jupyter's `normalize.less` sets `[hidden] { display: none; }` but bootstrap.min.css set `[hidden] { display: none !important; }` so we also need the `!important` here to be able to override the default hidden behavior on the sphinx rendered scikit-learn.org. See: https://github.com/scikit-learn/scikit-learn/issues/21755 */display: inline-block !important;position: relative;}#sk-container-id-1 div.sk-text-repr-fallback {display: none;}</style><div id=\"sk-container-id-1\" class=\"sk-top-container\"><div class=\"sk-text-repr-fallback\"><pre>RandomForestClassifier(random_state=42)</pre><b>In a Jupyter environment, please rerun this cell to show the HTML representation or trust the notebook. <br />On GitHub, the HTML representation is unable to render, please try loading this page with nbviewer.org.</b></div><div class=\"sk-container\" hidden><div class=\"sk-item\"><div class=\"sk-estimator sk-toggleable\"><input class=\"sk-toggleable__control sk-hidden--visually\" id=\"sk-estimator-id-1\" type=\"checkbox\" checked><label for=\"sk-estimator-id-1\" class=\"sk-toggleable__label sk-toggleable__label-arrow\">RandomForestClassifier</label><div class=\"sk-toggleable__content\"><pre>RandomForestClassifier(random_state=42)</pre></div></div></div></div></div>"
            ],
            "text/plain": [
              "RandomForestClassifier(random_state=42)"
            ]
          },
          "execution_count": 30,
          "metadata": {},
          "output_type": "execute_result"
        }
      ],
      "source": [
        "model.fit(X_train, y_train)"
      ]
    },
    {
      "cell_type": "markdown",
      "id": "hYYmNUWBTrgO",
      "metadata": {
        "id": "hYYmNUWBTrgO"
      },
      "source": [
        "* Check the feature importances (if available) to see the expected feature names - this is for predictions"
      ]
    },
    {
      "cell_type": "code",
      "execution_count": 31,
      "id": "oJzjqi8wTjwb",
      "metadata": {
        "colab": {
          "base_uri": "https://localhost:8080/"
        },
        "id": "oJzjqi8wTjwb",
        "outputId": "1f5526e4-b0de-4d7a-89c7-6f6b37eb0d0d"
      },
      "outputs": [
        {
          "name": "stdout",
          "output_type": "stream",
          "text": [
            "Feature: Year, Importance: 0.22305009774516482\n",
            "Feature: February Average Temperature, Importance: 0.09628059917226592\n",
            "Feature: February Average Temperature (Northeast), Importance: 0.12859467630860974\n",
            "Feature: February Average Temperature (Midwest), Importance: 0.0876210459123451\n",
            "Feature: February Average Temperature (Pennsylvania), Importance: 0.09317836674266333\n",
            "Feature: March Average Temperature, Importance: 0.10593365372498827\n",
            "Feature: March Average Temperature (Northeast), Importance: 0.08843617472352458\n",
            "Feature: March Average Temperature (Midwest), Importance: 0.09526591372613379\n",
            "Feature: March Average Temperature (Pennsylvania), Importance: 0.0816394719443045\n"
          ]
        }
      ],
      "source": [
        "if hasattr(model, 'feature_importances_'):\n",
        "    feature_importances = model.feature_importances_\n",
        "    feature_names = X_train.columns\n",
        "\n",
        "    for feature_name, importance in zip(feature_names, feature_importances):\n",
        "        print(f\"Feature: {feature_name}, Importance: {importance}\")\n",
        "else:\n",
        "    print(\"This model does not provide feature importances.\")\n",
        "\n",
        "# If feature importances are available, it will print the feature names and their importances.\n"
      ]
    },
    {
      "cell_type": "markdown",
      "id": "FCYClQFiYtxu",
      "metadata": {
        "id": "FCYClQFiYtxu"
      },
      "source": [
        "# Model Training - Neural Network Model\n"
      ]
    },
    {
      "cell_type": "code",
      "execution_count": 32,
      "id": "jLOxtgiSX-PA",
      "metadata": {
        "id": "jLOxtgiSX-PA"
      },
      "outputs": [],
      "source": [
        "import tensorflow as tf\n",
        "from tensorflow import keras\n",
        "import numpy as np\n",
        "\n",
        "model = tf.keras.Sequential([keras.layers.Dense(units=1, input_shape=[1])])"
      ]
    },
    {
      "cell_type": "code",
      "execution_count": 33,
      "id": "4RwQJk31aIhx",
      "metadata": {
        "id": "4RwQJk31aIhx"
      },
      "outputs": [],
      "source": [
        "model = keras.Sequential([\n",
        "    keras.layers.Input(shape=(X_train.shape[1],)),  # input shape should match the number of features\n",
        "    keras.layers.Dense(64, activation='relu'),\n",
        "    keras.layers.Dense(32, activation='relu'),\n",
        "    keras.layers.Dense(1, activation='sigmoid')\n",
        "])\n"
      ]
    },
    {
      "cell_type": "code",
      "execution_count": 34,
      "id": "xk2Dcr-saaqm",
      "metadata": {
        "id": "xk2Dcr-saaqm"
      },
      "outputs": [],
      "source": [
        "model.compile(optimizer='adam', loss='binary_crossentropy', metrics=['accuracy'])"
      ]
    },
    {
      "cell_type": "code",
      "execution_count": 35,
      "id": "Kz5P24HXaeHr",
      "metadata": {
        "colab": {
          "base_uri": "https://localhost:8080/"
        },
        "id": "Kz5P24HXaeHr",
        "outputId": "2a4c867b-c8dc-4d32-fb08-a452de6a9283"
      },
      "outputs": [
        {
          "name": "stdout",
          "output_type": "stream",
          "text": [
            "Epoch 1/50\n",
            "4/4 [==============================] - 1s 62ms/step - loss: 23.8091 - accuracy: 0.8557 - val_loss: 20.6439 - val_accuracy: 0.6800\n",
            "Epoch 2/50\n",
            "4/4 [==============================] - 0s 10ms/step - loss: 5.7768 - accuracy: 0.8660 - val_loss: 32.1711 - val_accuracy: 0.3200\n",
            "Epoch 3/50\n",
            "4/4 [==============================] - 0s 9ms/step - loss: 32.4871 - accuracy: 0.1443 - val_loss: 6.6166 - val_accuracy: 0.6800\n",
            "Epoch 4/50\n",
            "4/4 [==============================] - 0s 10ms/step - loss: 5.6156 - accuracy: 0.8557 - val_loss: 27.6196 - val_accuracy: 0.6800\n",
            "Epoch 5/50\n",
            "4/4 [==============================] - 0s 9ms/step - loss: 14.1803 - accuracy: 0.8557 - val_loss: 37.2977 - val_accuracy: 0.6800\n",
            "Epoch 6/50\n",
            "4/4 [==============================] - 0s 9ms/step - loss: 17.3785 - accuracy: 0.8557 - val_loss: 38.8600 - val_accuracy: 0.6800\n",
            "Epoch 7/50\n",
            "4/4 [==============================] - 0s 9ms/step - loss: 17.5738 - accuracy: 0.8557 - val_loss: 35.1896 - val_accuracy: 0.6800\n",
            "Epoch 8/50\n",
            "4/4 [==============================] - 0s 10ms/step - loss: 15.4311 - accuracy: 0.8557 - val_loss: 27.8256 - val_accuracy: 0.6800\n",
            "Epoch 9/50\n",
            "4/4 [==============================] - 0s 10ms/step - loss: 11.5945 - accuracy: 0.8557 - val_loss: 15.2627 - val_accuracy: 0.6800\n",
            "Epoch 10/50\n",
            "4/4 [==============================] - 0s 10ms/step - loss: 5.5314 - accuracy: 0.8454 - val_loss: 4.2680 - val_accuracy: 0.3200\n",
            "Epoch 11/50\n",
            "4/4 [==============================] - 0s 10ms/step - loss: 3.0786 - accuracy: 0.4021 - val_loss: 5.8386 - val_accuracy: 0.6800\n",
            "Epoch 12/50\n",
            "4/4 [==============================] - 0s 10ms/step - loss: 3.2463 - accuracy: 0.8557 - val_loss: 8.9710 - val_accuracy: 0.6800\n",
            "Epoch 13/50\n",
            "4/4 [==============================] - 0s 10ms/step - loss: 4.2065 - accuracy: 0.8557 - val_loss: 7.1219 - val_accuracy: 0.6800\n",
            "Epoch 14/50\n",
            "4/4 [==============================] - 0s 9ms/step - loss: 2.7913 - accuracy: 0.8557 - val_loss: 1.4732 - val_accuracy: 0.6800\n",
            "Epoch 15/50\n",
            "4/4 [==============================] - 0s 10ms/step - loss: 1.0564 - accuracy: 0.5979 - val_loss: 2.9578 - val_accuracy: 0.6800\n",
            "Epoch 16/50\n",
            "4/4 [==============================] - 0s 11ms/step - loss: 2.1153 - accuracy: 0.8557 - val_loss: 7.5868 - val_accuracy: 0.6800\n",
            "Epoch 17/50\n",
            "4/4 [==============================] - 0s 10ms/step - loss: 3.5970 - accuracy: 0.8557 - val_loss: 3.5939 - val_accuracy: 0.6800\n",
            "Epoch 18/50\n",
            "4/4 [==============================] - 0s 13ms/step - loss: 2.7447 - accuracy: 0.5258 - val_loss: 3.8681 - val_accuracy: 0.3200\n",
            "Epoch 19/50\n",
            "4/4 [==============================] - 0s 12ms/step - loss: 2.2158 - accuracy: 0.5876 - val_loss: 4.6781 - val_accuracy: 0.6800\n",
            "Epoch 20/50\n",
            "4/4 [==============================] - 0s 11ms/step - loss: 1.7778 - accuracy: 0.8557 - val_loss: 5.9477 - val_accuracy: 0.3200\n",
            "Epoch 21/50\n",
            "4/4 [==============================] - 0s 11ms/step - loss: 8.4548 - accuracy: 0.1546 - val_loss: 3.2131 - val_accuracy: 0.6800\n",
            "Epoch 22/50\n",
            "4/4 [==============================] - 0s 11ms/step - loss: 2.7368 - accuracy: 0.8557 - val_loss: 9.4380 - val_accuracy: 0.6800\n",
            "Epoch 23/50\n",
            "4/4 [==============================] - 0s 11ms/step - loss: 4.8429 - accuracy: 0.8557 - val_loss: 9.9270 - val_accuracy: 0.6800\n",
            "Epoch 24/50\n",
            "4/4 [==============================] - 0s 10ms/step - loss: 4.3209 - accuracy: 0.8557 - val_loss: 5.7654 - val_accuracy: 0.6800\n",
            "Epoch 25/50\n",
            "4/4 [==============================] - 0s 11ms/step - loss: 2.4077 - accuracy: 0.8557 - val_loss: 1.0302 - val_accuracy: 0.5600\n",
            "Epoch 26/50\n",
            "4/4 [==============================] - 0s 10ms/step - loss: 0.8883 - accuracy: 0.6082 - val_loss: 3.0017 - val_accuracy: 0.6800\n",
            "Epoch 27/50\n",
            "4/4 [==============================] - 0s 11ms/step - loss: 1.7207 - accuracy: 0.8557 - val_loss: 2.7805 - val_accuracy: 0.6800\n",
            "Epoch 28/50\n",
            "4/4 [==============================] - 0s 11ms/step - loss: 1.0982 - accuracy: 0.8351 - val_loss: 0.7380 - val_accuracy: 0.5600\n",
            "Epoch 29/50\n",
            "4/4 [==============================] - 0s 10ms/step - loss: 0.8537 - accuracy: 0.7938 - val_loss: 1.6366 - val_accuracy: 0.6800\n",
            "Epoch 30/50\n",
            "4/4 [==============================] - 0s 10ms/step - loss: 0.8405 - accuracy: 0.7835 - val_loss: 1.5436 - val_accuracy: 0.6800\n",
            "Epoch 31/50\n",
            "4/4 [==============================] - 0s 22ms/step - loss: 1.1873 - accuracy: 0.8557 - val_loss: 2.6183 - val_accuracy: 0.6800\n",
            "Epoch 32/50\n",
            "4/4 [==============================] - 0s 13ms/step - loss: 1.0929 - accuracy: 0.8351 - val_loss: 1.0917 - val_accuracy: 0.5200\n",
            "Epoch 33/50\n",
            "4/4 [==============================] - 0s 11ms/step - loss: 1.1326 - accuracy: 0.6392 - val_loss: 2.1630 - val_accuracy: 0.6800\n",
            "Epoch 34/50\n",
            "4/4 [==============================] - 0s 11ms/step - loss: 0.9771 - accuracy: 0.8557 - val_loss: 5.4408 - val_accuracy: 0.3200\n",
            "Epoch 35/50\n",
            "4/4 [==============================] - 0s 11ms/step - loss: 6.3916 - accuracy: 0.1546 - val_loss: 5.9355 - val_accuracy: 0.6800\n",
            "Epoch 36/50\n",
            "4/4 [==============================] - 0s 11ms/step - loss: 3.7379 - accuracy: 0.8557 - val_loss: 13.3224 - val_accuracy: 0.6800\n",
            "Epoch 37/50\n",
            "4/4 [==============================] - 0s 11ms/step - loss: 6.4038 - accuracy: 0.8557 - val_loss: 14.0086 - val_accuracy: 0.6800\n",
            "Epoch 38/50\n",
            "4/4 [==============================] - 0s 12ms/step - loss: 6.1780 - accuracy: 0.8557 - val_loss: 10.3318 - val_accuracy: 0.6800\n",
            "Epoch 39/50\n",
            "4/4 [==============================] - 0s 10ms/step - loss: 4.1911 - accuracy: 0.8557 - val_loss: 3.2132 - val_accuracy: 0.6800\n",
            "Epoch 40/50\n",
            "4/4 [==============================] - 0s 11ms/step - loss: 1.7886 - accuracy: 0.5979 - val_loss: 0.9089 - val_accuracy: 0.6400\n",
            "Epoch 41/50\n",
            "4/4 [==============================] - 0s 11ms/step - loss: 1.2608 - accuracy: 0.8144 - val_loss: 3.9439 - val_accuracy: 0.6800\n",
            "Epoch 42/50\n",
            "4/4 [==============================] - 0s 12ms/step - loss: 1.8414 - accuracy: 0.8557 - val_loss: 1.7253 - val_accuracy: 0.6800\n",
            "Epoch 43/50\n",
            "4/4 [==============================] - 0s 11ms/step - loss: 0.6149 - accuracy: 0.7629 - val_loss: 1.3940 - val_accuracy: 0.6800\n",
            "Epoch 44/50\n",
            "4/4 [==============================] - 0s 10ms/step - loss: 1.0136 - accuracy: 0.8557 - val_loss: 3.1991 - val_accuracy: 0.6800\n",
            "Epoch 45/50\n",
            "4/4 [==============================] - 0s 11ms/step - loss: 1.4814 - accuracy: 0.8557 - val_loss: 0.8350 - val_accuracy: 0.6000\n",
            "Epoch 46/50\n",
            "4/4 [==============================] - 0s 11ms/step - loss: 0.8099 - accuracy: 0.7010 - val_loss: 1.2155 - val_accuracy: 0.6800\n",
            "Epoch 47/50\n",
            "4/4 [==============================] - 0s 11ms/step - loss: 0.7144 - accuracy: 0.8351 - val_loss: 0.8827 - val_accuracy: 0.6400\n",
            "Epoch 48/50\n",
            "4/4 [==============================] - 0s 10ms/step - loss: 0.7209 - accuracy: 0.8041 - val_loss: 0.7263 - val_accuracy: 0.5600\n",
            "Epoch 49/50\n",
            "4/4 [==============================] - 0s 11ms/step - loss: 0.6880 - accuracy: 0.7423 - val_loss: 1.3241 - val_accuracy: 0.6800\n",
            "Epoch 50/50\n",
            "4/4 [==============================] - 0s 10ms/step - loss: 0.7271 - accuracy: 0.8454 - val_loss: 5.4473 - val_accuracy: 0.3200\n"
          ]
        },
        {
          "data": {
            "text/plain": [
              "<keras.src.callbacks.History at 0x254f0c3f250>"
            ]
          },
          "execution_count": 35,
          "metadata": {},
          "output_type": "execute_result"
        }
      ],
      "source": [
        "# Ensure binary labels\n",
        "y_train = (y_train == 'Full Shadow').astype(int)\n",
        "y_val = (y_val == 'Full Shadow').astype(int)\n",
        "\n",
        "# Verify that your features are in the correct format and data type (e.g., float32)\n",
        "X_train = X_train.astype('float32')\n",
        "X_val = X_val.astype('float32')\n",
        "\n",
        "\n",
        "model.fit(X_train, y_train, epochs=50, batch_size=32, validation_data=(X_val, y_val))\n"
      ]
    },
    {
      "cell_type": "code",
      "execution_count": 36,
      "id": "IW5os1CKb0dW",
      "metadata": {
        "colab": {
          "base_uri": "https://localhost:8080/"
        },
        "id": "IW5os1CKb0dW",
        "outputId": "64e8d611-86d0-4415-93fa-7c8a76328697"
      },
      "outputs": [
        {
          "name": "stdout",
          "output_type": "stream",
          "text": [
            "1/1 [==============================] - 0s 29ms/step - loss: 5.4473 - accuracy: 0.3200\n",
            "1/1 [==============================] - 0s 77ms/step\n",
            "Accuracy: 0.32\n",
            "Precision: 0.0\n",
            "Recall: 0.0\n",
            "F1 Score: 0.0\n"
          ]
        },
        {
          "name": "stderr",
          "output_type": "stream",
          "text": [
            "c:\\Users\\anchi\\OneDrive\\Documents\\GitHub\\finalGroundHog\\venv\\Lib\\site-packages\\sklearn\\metrics\\_classification.py:1471: UndefinedMetricWarning: Precision is ill-defined and being set to 0.0 due to no predicted samples. Use `zero_division` parameter to control this behavior.\n",
            "  _warn_prf(average, modifier, msg_start, len(result))\n"
          ]
        }
      ],
      "source": [
        "# Evaluate the model\n",
        "loss, accuracy = model.evaluate(X_val, y_val)\n",
        "\n",
        "# Make predictions\n",
        "y_pred = model.predict(X_val)\n",
        "\n",
        "# Convert the predicted probabilities to binary predictions (0 or 1)\n",
        "y_pred_binary = (y_pred > 0.5).astype(int)\n",
        "\n",
        "# Calculate classification metrics\n",
        "from sklearn.metrics import accuracy_score, precision_score, recall_score, f1_score\n",
        "\n",
        "accuracy = accuracy_score(y_val, y_pred_binary)\n",
        "precision = precision_score(y_val, y_pred_binary)\n",
        "recall = recall_score(y_val, y_pred_binary)\n",
        "f1 = f1_score(y_val, y_pred_binary)\n",
        "\n",
        "print(\"Accuracy:\", accuracy)\n",
        "print(\"Precision:\", precision)\n",
        "print(\"Recall:\", recall)\n",
        "print(\"F1 Score:\", f1)\n"
      ]
    },
    {
      "cell_type": "markdown",
      "id": "mondvGg_dHzm",
      "metadata": {
        "id": "mondvGg_dHzm"
      },
      "source": [
        "* Successfully optained predictions from neural network model"
      ]
    },
    {
      "cell_type": "code",
      "execution_count": 37,
      "metadata": {},
      "outputs": [
        {
          "name": "stdout",
          "output_type": "stream",
          "text": [
            "1/1 [==============================] - 0s 51ms/step\n",
            "Predicted Shadow: [0.00031318]\n"
          ]
        }
      ],
      "source": [
        "new_data = pd.DataFrame({\n",
        "    'Year': [2023],\n",
        "    'February Average Temperature': [40.0],\n",
        "    'February Average Temperature (Northeast)': [38.0],\n",
        "    'February Average Temperature (Midwest)': [42.0],\n",
        "    'February Average Temperature (Pennsylvania)': [41.0],\n",
        "    'March Average Temperature': [45.0],\n",
        "    'March Average Temperature (Northeast)': [43.0],\n",
        "    'March Average Temperature (Midwest)': [47.0],\n",
        "    'March Average Temperature (Pennsylvania)': [46.0]\n",
        "})\n",
        "\n",
        "predicted_class = model.predict(new_data)\n",
        "\n",
        "print(\"Predicted Shadow:\", predicted_class[0])\n"
      ]
    },
    {
      "cell_type": "code",
      "execution_count": 38,
      "id": "Z_9PkXPsc4Vy",
      "metadata": {
        "colab": {
          "base_uri": "https://localhost:8080/"
        },
        "id": "Z_9PkXPsc4Vy",
        "outputId": "7abe87ae-fca9-46d8-dca4-b6c8de85b5a0"
      },
      "outputs": [
        {
          "name": "stdout",
          "output_type": "stream",
          "text": [
            "1/1 [==============================] - 0s 28ms/step\n"
          ]
        }
      ],
      "source": [
        "predictions = model.predict(new_data)\n"
      ]
    },
    {
      "cell_type": "markdown",
      "id": "YI7XylcPd3Aj",
      "metadata": {
        "id": "YI7XylcPd3Aj"
      },
      "source": [
        "**The threshold defines the boundary between the two classes and is used to make a binary decision based on the model's output**\n",
        "\n",
        "* If the predicted probability is below  0.9, the data point is classified as \"Full Shadow.\"\n",
        "* If the predicted probability is above 0.9, the data point is classified as \"No Shadow.\""
      ]
    },
    {
      "cell_type": "markdown",
      "id": "uzxSwg4QfZD6",
      "metadata": {
        "id": "uzxSwg4QfZD6"
      },
      "source": [
        "**demonstrate FULL shadow**"
      ]
    },
    {
      "cell_type": "code",
      "execution_count": 39,
      "id": "Huf3Z1MkdX-B",
      "metadata": {
        "colab": {
          "base_uri": "https://localhost:8080/"
        },
        "id": "Huf3Z1MkdX-B",
        "outputId": "3bc6dd9e-c428-49d0-e2a4-5b77c7e1327d"
      },
      "outputs": [
        {
          "name": "stdout",
          "output_type": "stream",
          "text": [
            "1/1 [==============================] - 0s 19ms/step\n",
            "Predicted Shadow: No Shadow\n"
          ]
        }
      ],
      "source": [
        "threshold = 0.5\n",
        "\n",
        "# Predictions from the model\n",
        "predictions = model.predict(new_data)\n",
        "\n",
        "# Apply the threshold to classify predictions\n",
        "predicted_labels = (predictions >= threshold).astype(int)\n",
        "\n",
        "# Interpret the result\n",
        "if predicted_labels[0] == 1:\n",
        "    print(\"Predicted Shadow: Full Shadow\")\n",
        "else:\n",
        "    print(\"Predicted Shadow: No Shadow\")\n"
      ]
    },
    {
      "cell_type": "markdown",
      "id": "lJmN0w5HfSS7",
      "metadata": {
        "id": "lJmN0w5HfSS7"
      },
      "source": [
        "**Demonstrate NO Shadow**"
      ]
    },
    {
      "cell_type": "code",
      "execution_count": 40,
      "id": "DEeZ8PzOeNKv",
      "metadata": {
        "colab": {
          "base_uri": "https://localhost:8080/"
        },
        "id": "DEeZ8PzOeNKv",
        "outputId": "ebe792ac-8ec0-495b-cf08-3497b56661a1"
      },
      "outputs": [
        {
          "name": "stdout",
          "output_type": "stream",
          "text": [
            "1/1 [==============================] - 0s 23ms/step\n",
            "Predicted Shadow: No Shadow\n"
          ]
        }
      ],
      "source": [
        "threshold = 3\n",
        "\n",
        "# Predictions from the model\n",
        "predictions = model.predict(new_data)\n",
        "\n",
        "# Apply the threshold to classify predictions\n",
        "predicted_labels = (predictions >= threshold).astype(int)\n",
        "\n",
        "# Interpret the result\n",
        "if predicted_labels[0]:\n",
        "    print(\"Predicted Shadow: Full Shadow\")\n",
        "else:\n",
        "    print(\"Predicted Shadow: No Shadow\")\n"
      ]
    },
    {
      "cell_type": "markdown",
      "id": "-bxDUyoJHVvn",
      "metadata": {
        "id": "-bxDUyoJHVvn"
      },
      "source": [
        "# 5. Model Evaluation"
      ]
    },
    {
      "cell_type": "markdown",
      "id": "aGUeRTrzOnnr",
      "metadata": {
        "id": "aGUeRTrzOnnr"
      },
      "source": [
        "1. Make predictions"
      ]
    },
    {
      "cell_type": "code",
      "execution_count": 41,
      "id": "dSAV3eVOgtOk",
      "metadata": {
        "id": "dSAV3eVOgtOk"
      },
      "outputs": [
        {
          "name": "stdout",
          "output_type": "stream",
          "text": [
            "1/1 [==============================] - 0s 24ms/step\n"
          ]
        }
      ],
      "source": [
        "y_pred = model.predict(X_val)\n"
      ]
    },
    {
      "cell_type": "markdown",
      "id": "MIlfHk7yOrNr",
      "metadata": {
        "id": "MIlfHk7yOrNr"
      },
      "source": [
        "2. Calculate Metrics"
      ]
    },
    {
      "cell_type": "code",
      "execution_count": 42,
      "id": "YW0kOkx_Otoi",
      "metadata": {
        "colab": {
          "base_uri": "https://localhost:8080/"
        },
        "id": "YW0kOkx_Otoi",
        "outputId": "9a125fa5-525c-4518-8fac-1f3b50be43d1"
      },
      "outputs": [
        {
          "ename": "ValueError",
          "evalue": "Classification metrics can't handle a mix of binary and continuous targets",
          "output_type": "error",
          "traceback": [
            "\u001b[1;31m---------------------------------------------------------------------------\u001b[0m",
            "\u001b[1;31mValueError\u001b[0m                                Traceback (most recent call last)",
            "\u001b[1;32mc:\\Users\\anchi\\OneDrive\\Documents\\GitHub\\finalGroundHog\\GroundHog2.ipynb Cell 69\u001b[0m line \u001b[0;36m3\n\u001b[0;32m      <a href='vscode-notebook-cell:/c%3A/Users/anchi/OneDrive/Documents/GitHub/finalGroundHog/GroundHog2.ipynb#Y125sZmlsZQ%3D%3D?line=0'>1</a>\u001b[0m \u001b[39mfrom\u001b[39;00m \u001b[39msklearn\u001b[39;00m\u001b[39m.\u001b[39;00m\u001b[39mmetrics\u001b[39;00m \u001b[39mimport\u001b[39;00m precision_score\n\u001b[1;32m----> <a href='vscode-notebook-cell:/c%3A/Users/anchi/OneDrive/Documents/GitHub/finalGroundHog/GroundHog2.ipynb#Y125sZmlsZQ%3D%3D?line=2'>3</a>\u001b[0m precision \u001b[39m=\u001b[39m precision_score(y_val, y_pred, average\u001b[39m=\u001b[39;49m\u001b[39mNone\u001b[39;49;00m, zero_division\u001b[39m=\u001b[39;49m\u001b[39m1\u001b[39;49m)\n\u001b[0;32m      <a href='vscode-notebook-cell:/c%3A/Users/anchi/OneDrive/Documents/GitHub/finalGroundHog/GroundHog2.ipynb#Y125sZmlsZQ%3D%3D?line=3'>4</a>\u001b[0m \u001b[39mprint\u001b[39m(\u001b[39m\"\u001b[39m\u001b[39mPrecision for each class:\u001b[39m\u001b[39m\"\u001b[39m, precision)\n",
            "File \u001b[1;32mc:\\Users\\anchi\\OneDrive\\Documents\\GitHub\\finalGroundHog\\venv\\Lib\\site-packages\\sklearn\\utils\\_param_validation.py:214\u001b[0m, in \u001b[0;36mvalidate_params.<locals>.decorator.<locals>.wrapper\u001b[1;34m(*args, **kwargs)\u001b[0m\n\u001b[0;32m    208\u001b[0m \u001b[39mtry\u001b[39;00m:\n\u001b[0;32m    209\u001b[0m     \u001b[39mwith\u001b[39;00m config_context(\n\u001b[0;32m    210\u001b[0m         skip_parameter_validation\u001b[39m=\u001b[39m(\n\u001b[0;32m    211\u001b[0m             prefer_skip_nested_validation \u001b[39mor\u001b[39;00m global_skip_validation\n\u001b[0;32m    212\u001b[0m         )\n\u001b[0;32m    213\u001b[0m     ):\n\u001b[1;32m--> 214\u001b[0m         \u001b[39mreturn\u001b[39;00m func(\u001b[39m*\u001b[39;49margs, \u001b[39m*\u001b[39;49m\u001b[39m*\u001b[39;49mkwargs)\n\u001b[0;32m    215\u001b[0m \u001b[39mexcept\u001b[39;00m InvalidParameterError \u001b[39mas\u001b[39;00m e:\n\u001b[0;32m    216\u001b[0m     \u001b[39m# When the function is just a wrapper around an estimator, we allow\u001b[39;00m\n\u001b[0;32m    217\u001b[0m     \u001b[39m# the function to delegate validation to the estimator, but we replace\u001b[39;00m\n\u001b[0;32m    218\u001b[0m     \u001b[39m# the name of the estimator by the name of the function in the error\u001b[39;00m\n\u001b[0;32m    219\u001b[0m     \u001b[39m# message to avoid confusion.\u001b[39;00m\n\u001b[0;32m    220\u001b[0m     msg \u001b[39m=\u001b[39m re\u001b[39m.\u001b[39msub(\n\u001b[0;32m    221\u001b[0m         \u001b[39mr\u001b[39m\u001b[39m\"\u001b[39m\u001b[39mparameter of \u001b[39m\u001b[39m\\\u001b[39m\u001b[39mw+ must be\u001b[39m\u001b[39m\"\u001b[39m,\n\u001b[0;32m    222\u001b[0m         \u001b[39mf\u001b[39m\u001b[39m\"\u001b[39m\u001b[39mparameter of \u001b[39m\u001b[39m{\u001b[39;00mfunc\u001b[39m.\u001b[39m\u001b[39m__qualname__\u001b[39m\u001b[39m}\u001b[39;00m\u001b[39m must be\u001b[39m\u001b[39m\"\u001b[39m,\n\u001b[0;32m    223\u001b[0m         \u001b[39mstr\u001b[39m(e),\n\u001b[0;32m    224\u001b[0m     )\n",
            "File \u001b[1;32mc:\\Users\\anchi\\OneDrive\\Documents\\GitHub\\finalGroundHog\\venv\\Lib\\site-packages\\sklearn\\metrics\\_classification.py:2131\u001b[0m, in \u001b[0;36mprecision_score\u001b[1;34m(y_true, y_pred, labels, pos_label, average, sample_weight, zero_division)\u001b[0m\n\u001b[0;32m   1973\u001b[0m \u001b[39m@validate_params\u001b[39m(\n\u001b[0;32m   1974\u001b[0m     {\n\u001b[0;32m   1975\u001b[0m         \u001b[39m\"\u001b[39m\u001b[39my_true\u001b[39m\u001b[39m\"\u001b[39m: [\u001b[39m\"\u001b[39m\u001b[39marray-like\u001b[39m\u001b[39m\"\u001b[39m, \u001b[39m\"\u001b[39m\u001b[39msparse matrix\u001b[39m\u001b[39m\"\u001b[39m],\n\u001b[1;32m   (...)\u001b[0m\n\u001b[0;32m   2000\u001b[0m     zero_division\u001b[39m=\u001b[39m\u001b[39m\"\u001b[39m\u001b[39mwarn\u001b[39m\u001b[39m\"\u001b[39m,\n\u001b[0;32m   2001\u001b[0m ):\n\u001b[0;32m   2002\u001b[0m \u001b[39m    \u001b[39m\u001b[39m\"\"\"Compute the precision.\u001b[39;00m\n\u001b[0;32m   2003\u001b[0m \n\u001b[0;32m   2004\u001b[0m \u001b[39m    The precision is the ratio ``tp / (tp + fp)`` where ``tp`` is the number of\u001b[39;00m\n\u001b[1;32m   (...)\u001b[0m\n\u001b[0;32m   2129\u001b[0m \u001b[39m    array([0.5, 1. , 1. ])\u001b[39;00m\n\u001b[0;32m   2130\u001b[0m \u001b[39m    \"\"\"\u001b[39;00m\n\u001b[1;32m-> 2131\u001b[0m     p, _, _, _ \u001b[39m=\u001b[39m precision_recall_fscore_support(\n\u001b[0;32m   2132\u001b[0m         y_true,\n\u001b[0;32m   2133\u001b[0m         y_pred,\n\u001b[0;32m   2134\u001b[0m         labels\u001b[39m=\u001b[39;49mlabels,\n\u001b[0;32m   2135\u001b[0m         pos_label\u001b[39m=\u001b[39;49mpos_label,\n\u001b[0;32m   2136\u001b[0m         average\u001b[39m=\u001b[39;49maverage,\n\u001b[0;32m   2137\u001b[0m         warn_for\u001b[39m=\u001b[39;49m(\u001b[39m\"\u001b[39;49m\u001b[39mprecision\u001b[39;49m\u001b[39m\"\u001b[39;49m,),\n\u001b[0;32m   2138\u001b[0m         sample_weight\u001b[39m=\u001b[39;49msample_weight,\n\u001b[0;32m   2139\u001b[0m         zero_division\u001b[39m=\u001b[39;49mzero_division,\n\u001b[0;32m   2140\u001b[0m     )\n\u001b[0;32m   2141\u001b[0m     \u001b[39mreturn\u001b[39;00m p\n",
            "File \u001b[1;32mc:\\Users\\anchi\\OneDrive\\Documents\\GitHub\\finalGroundHog\\venv\\Lib\\site-packages\\sklearn\\utils\\_param_validation.py:187\u001b[0m, in \u001b[0;36mvalidate_params.<locals>.decorator.<locals>.wrapper\u001b[1;34m(*args, **kwargs)\u001b[0m\n\u001b[0;32m    185\u001b[0m global_skip_validation \u001b[39m=\u001b[39m get_config()[\u001b[39m\"\u001b[39m\u001b[39mskip_parameter_validation\u001b[39m\u001b[39m\"\u001b[39m]\n\u001b[0;32m    186\u001b[0m \u001b[39mif\u001b[39;00m global_skip_validation:\n\u001b[1;32m--> 187\u001b[0m     \u001b[39mreturn\u001b[39;00m func(\u001b[39m*\u001b[39;49margs, \u001b[39m*\u001b[39;49m\u001b[39m*\u001b[39;49mkwargs)\n\u001b[0;32m    189\u001b[0m func_sig \u001b[39m=\u001b[39m signature(func)\n\u001b[0;32m    191\u001b[0m \u001b[39m# Map *args/**kwargs to the function signature\u001b[39;00m\n",
            "File \u001b[1;32mc:\\Users\\anchi\\OneDrive\\Documents\\GitHub\\finalGroundHog\\venv\\Lib\\site-packages\\sklearn\\metrics\\_classification.py:1724\u001b[0m, in \u001b[0;36mprecision_recall_fscore_support\u001b[1;34m(y_true, y_pred, beta, labels, pos_label, average, warn_for, sample_weight, zero_division)\u001b[0m\n\u001b[0;32m   1566\u001b[0m \u001b[39m\u001b[39m\u001b[39m\"\"\"Compute precision, recall, F-measure and support for each class.\u001b[39;00m\n\u001b[0;32m   1567\u001b[0m \n\u001b[0;32m   1568\u001b[0m \u001b[39mThe precision is the ratio ``tp / (tp + fp)`` where ``tp`` is the number of\u001b[39;00m\n\u001b[1;32m   (...)\u001b[0m\n\u001b[0;32m   1721\u001b[0m \u001b[39m array([2, 2, 2]))\u001b[39;00m\n\u001b[0;32m   1722\u001b[0m \u001b[39m\"\"\"\u001b[39;00m\n\u001b[0;32m   1723\u001b[0m zero_division_value \u001b[39m=\u001b[39m _check_zero_division(zero_division)\n\u001b[1;32m-> 1724\u001b[0m labels \u001b[39m=\u001b[39m _check_set_wise_labels(y_true, y_pred, average, labels, pos_label)\n\u001b[0;32m   1726\u001b[0m \u001b[39m# Calculate tp_sum, pred_sum, true_sum ###\u001b[39;00m\n\u001b[0;32m   1727\u001b[0m samplewise \u001b[39m=\u001b[39m average \u001b[39m==\u001b[39m \u001b[39m\"\u001b[39m\u001b[39msamples\u001b[39m\u001b[39m\"\u001b[39m\n",
            "File \u001b[1;32mc:\\Users\\anchi\\OneDrive\\Documents\\GitHub\\finalGroundHog\\venv\\Lib\\site-packages\\sklearn\\metrics\\_classification.py:1501\u001b[0m, in \u001b[0;36m_check_set_wise_labels\u001b[1;34m(y_true, y_pred, average, labels, pos_label)\u001b[0m\n\u001b[0;32m   1498\u001b[0m \u001b[39mif\u001b[39;00m average \u001b[39mnot\u001b[39;00m \u001b[39min\u001b[39;00m average_options \u001b[39mand\u001b[39;00m average \u001b[39m!=\u001b[39m \u001b[39m\"\u001b[39m\u001b[39mbinary\u001b[39m\u001b[39m\"\u001b[39m:\n\u001b[0;32m   1499\u001b[0m     \u001b[39mraise\u001b[39;00m \u001b[39mValueError\u001b[39;00m(\u001b[39m\"\u001b[39m\u001b[39maverage has to be one of \u001b[39m\u001b[39m\"\u001b[39m \u001b[39m+\u001b[39m \u001b[39mstr\u001b[39m(average_options))\n\u001b[1;32m-> 1501\u001b[0m y_type, y_true, y_pred \u001b[39m=\u001b[39m _check_targets(y_true, y_pred)\n\u001b[0;32m   1502\u001b[0m \u001b[39m# Convert to Python primitive type to avoid NumPy type / Python str\u001b[39;00m\n\u001b[0;32m   1503\u001b[0m \u001b[39m# comparison. See https://github.com/numpy/numpy/issues/6784\u001b[39;00m\n\u001b[0;32m   1504\u001b[0m present_labels \u001b[39m=\u001b[39m unique_labels(y_true, y_pred)\u001b[39m.\u001b[39mtolist()\n",
            "File \u001b[1;32mc:\\Users\\anchi\\OneDrive\\Documents\\GitHub\\finalGroundHog\\venv\\Lib\\site-packages\\sklearn\\metrics\\_classification.py:93\u001b[0m, in \u001b[0;36m_check_targets\u001b[1;34m(y_true, y_pred)\u001b[0m\n\u001b[0;32m     90\u001b[0m     y_type \u001b[39m=\u001b[39m {\u001b[39m\"\u001b[39m\u001b[39mmulticlass\u001b[39m\u001b[39m\"\u001b[39m}\n\u001b[0;32m     92\u001b[0m \u001b[39mif\u001b[39;00m \u001b[39mlen\u001b[39m(y_type) \u001b[39m>\u001b[39m \u001b[39m1\u001b[39m:\n\u001b[1;32m---> 93\u001b[0m     \u001b[39mraise\u001b[39;00m \u001b[39mValueError\u001b[39;00m(\n\u001b[0;32m     94\u001b[0m         \u001b[39m\"\u001b[39m\u001b[39mClassification metrics can\u001b[39m\u001b[39m'\u001b[39m\u001b[39mt handle a mix of \u001b[39m\u001b[39m{0}\u001b[39;00m\u001b[39m and \u001b[39m\u001b[39m{1}\u001b[39;00m\u001b[39m targets\u001b[39m\u001b[39m\"\u001b[39m\u001b[39m.\u001b[39mformat(\n\u001b[0;32m     95\u001b[0m             type_true, type_pred\n\u001b[0;32m     96\u001b[0m         )\n\u001b[0;32m     97\u001b[0m     )\n\u001b[0;32m     99\u001b[0m \u001b[39m# We can't have more than one value on y_type => The set is no more needed\u001b[39;00m\n\u001b[0;32m    100\u001b[0m y_type \u001b[39m=\u001b[39m y_type\u001b[39m.\u001b[39mpop()\n",
            "\u001b[1;31mValueError\u001b[0m: Classification metrics can't handle a mix of binary and continuous targets"
          ]
        }
      ],
      "source": [
        "from sklearn.metrics import precision_score\n",
        "\n",
        "precision = precision_score(y_val, y_pred, average=None, zero_division=1)\n",
        "print(\"Precision for each class:\", precision)\n"
      ]
    },
    {
      "cell_type": "markdown",
      "id": "StRfBC0xQPrk",
      "metadata": {
        "id": "StRfBC0xQPrk"
      },
      "source": [
        "3. Recall (Sensitivity) - measures the percentage of actual positive cases correctly predicted by the model"
      ]
    },
    {
      "cell_type": "code",
      "execution_count": 43,
      "id": "JFXaoV7eQXg-",
      "metadata": {
        "colab": {
          "base_uri": "https://localhost:8080/"
        },
        "id": "JFXaoV7eQXg-",
        "outputId": "cebed224-efe2-4d03-93ef-beb90382e556"
      },
      "outputs": [
        {
          "ename": "ValueError",
          "evalue": "Classification metrics can't handle a mix of binary and continuous targets",
          "output_type": "error",
          "traceback": [
            "\u001b[1;31m---------------------------------------------------------------------------\u001b[0m",
            "\u001b[1;31mValueError\u001b[0m                                Traceback (most recent call last)",
            "\u001b[1;32mc:\\Users\\anchi\\OneDrive\\Documents\\GitHub\\finalGroundHog\\GroundHog2.ipynb Cell 71\u001b[0m line \u001b[0;36m3\n\u001b[0;32m      <a href='vscode-notebook-cell:/c%3A/Users/anchi/OneDrive/Documents/GitHub/finalGroundHog/GroundHog2.ipynb#Y130sZmlsZQ%3D%3D?line=0'>1</a>\u001b[0m \u001b[39mfrom\u001b[39;00m \u001b[39msklearn\u001b[39;00m\u001b[39m.\u001b[39;00m\u001b[39mmetrics\u001b[39;00m \u001b[39mimport\u001b[39;00m recall_score\n\u001b[1;32m----> <a href='vscode-notebook-cell:/c%3A/Users/anchi/OneDrive/Documents/GitHub/finalGroundHog/GroundHog2.ipynb#Y130sZmlsZQ%3D%3D?line=2'>3</a>\u001b[0m recall \u001b[39m=\u001b[39m recall_score(y_val, y_pred, average\u001b[39m=\u001b[39;49m\u001b[39mNone\u001b[39;49;00m)\n\u001b[0;32m      <a href='vscode-notebook-cell:/c%3A/Users/anchi/OneDrive/Documents/GitHub/finalGroundHog/GroundHog2.ipynb#Y130sZmlsZQ%3D%3D?line=3'>4</a>\u001b[0m \u001b[39mprint\u001b[39m(\u001b[39m\"\u001b[39m\u001b[39mRecall for each class:\u001b[39m\u001b[39m\"\u001b[39m, recall)\n",
            "File \u001b[1;32mc:\\Users\\anchi\\OneDrive\\Documents\\GitHub\\finalGroundHog\\venv\\Lib\\site-packages\\sklearn\\utils\\_param_validation.py:214\u001b[0m, in \u001b[0;36mvalidate_params.<locals>.decorator.<locals>.wrapper\u001b[1;34m(*args, **kwargs)\u001b[0m\n\u001b[0;32m    208\u001b[0m \u001b[39mtry\u001b[39;00m:\n\u001b[0;32m    209\u001b[0m     \u001b[39mwith\u001b[39;00m config_context(\n\u001b[0;32m    210\u001b[0m         skip_parameter_validation\u001b[39m=\u001b[39m(\n\u001b[0;32m    211\u001b[0m             prefer_skip_nested_validation \u001b[39mor\u001b[39;00m global_skip_validation\n\u001b[0;32m    212\u001b[0m         )\n\u001b[0;32m    213\u001b[0m     ):\n\u001b[1;32m--> 214\u001b[0m         \u001b[39mreturn\u001b[39;00m func(\u001b[39m*\u001b[39;49margs, \u001b[39m*\u001b[39;49m\u001b[39m*\u001b[39;49mkwargs)\n\u001b[0;32m    215\u001b[0m \u001b[39mexcept\u001b[39;00m InvalidParameterError \u001b[39mas\u001b[39;00m e:\n\u001b[0;32m    216\u001b[0m     \u001b[39m# When the function is just a wrapper around an estimator, we allow\u001b[39;00m\n\u001b[0;32m    217\u001b[0m     \u001b[39m# the function to delegate validation to the estimator, but we replace\u001b[39;00m\n\u001b[0;32m    218\u001b[0m     \u001b[39m# the name of the estimator by the name of the function in the error\u001b[39;00m\n\u001b[0;32m    219\u001b[0m     \u001b[39m# message to avoid confusion.\u001b[39;00m\n\u001b[0;32m    220\u001b[0m     msg \u001b[39m=\u001b[39m re\u001b[39m.\u001b[39msub(\n\u001b[0;32m    221\u001b[0m         \u001b[39mr\u001b[39m\u001b[39m\"\u001b[39m\u001b[39mparameter of \u001b[39m\u001b[39m\\\u001b[39m\u001b[39mw+ must be\u001b[39m\u001b[39m\"\u001b[39m,\n\u001b[0;32m    222\u001b[0m         \u001b[39mf\u001b[39m\u001b[39m\"\u001b[39m\u001b[39mparameter of \u001b[39m\u001b[39m{\u001b[39;00mfunc\u001b[39m.\u001b[39m\u001b[39m__qualname__\u001b[39m\u001b[39m}\u001b[39;00m\u001b[39m must be\u001b[39m\u001b[39m\"\u001b[39m,\n\u001b[0;32m    223\u001b[0m         \u001b[39mstr\u001b[39m(e),\n\u001b[0;32m    224\u001b[0m     )\n",
            "File \u001b[1;32mc:\\Users\\anchi\\OneDrive\\Documents\\GitHub\\finalGroundHog\\venv\\Lib\\site-packages\\sklearn\\metrics\\_classification.py:2304\u001b[0m, in \u001b[0;36mrecall_score\u001b[1;34m(y_true, y_pred, labels, pos_label, average, sample_weight, zero_division)\u001b[0m\n\u001b[0;32m   2144\u001b[0m \u001b[39m@validate_params\u001b[39m(\n\u001b[0;32m   2145\u001b[0m     {\n\u001b[0;32m   2146\u001b[0m         \u001b[39m\"\u001b[39m\u001b[39my_true\u001b[39m\u001b[39m\"\u001b[39m: [\u001b[39m\"\u001b[39m\u001b[39marray-like\u001b[39m\u001b[39m\"\u001b[39m, \u001b[39m\"\u001b[39m\u001b[39msparse matrix\u001b[39m\u001b[39m\"\u001b[39m],\n\u001b[1;32m   (...)\u001b[0m\n\u001b[0;32m   2171\u001b[0m     zero_division\u001b[39m=\u001b[39m\u001b[39m\"\u001b[39m\u001b[39mwarn\u001b[39m\u001b[39m\"\u001b[39m,\n\u001b[0;32m   2172\u001b[0m ):\n\u001b[0;32m   2173\u001b[0m \u001b[39m    \u001b[39m\u001b[39m\"\"\"Compute the recall.\u001b[39;00m\n\u001b[0;32m   2174\u001b[0m \n\u001b[0;32m   2175\u001b[0m \u001b[39m    The recall is the ratio ``tp / (tp + fn)`` where ``tp`` is the number of\u001b[39;00m\n\u001b[1;32m   (...)\u001b[0m\n\u001b[0;32m   2302\u001b[0m \u001b[39m    array([1. , 1. , 0.5])\u001b[39;00m\n\u001b[0;32m   2303\u001b[0m \u001b[39m    \"\"\"\u001b[39;00m\n\u001b[1;32m-> 2304\u001b[0m     _, r, _, _ \u001b[39m=\u001b[39m precision_recall_fscore_support(\n\u001b[0;32m   2305\u001b[0m         y_true,\n\u001b[0;32m   2306\u001b[0m         y_pred,\n\u001b[0;32m   2307\u001b[0m         labels\u001b[39m=\u001b[39;49mlabels,\n\u001b[0;32m   2308\u001b[0m         pos_label\u001b[39m=\u001b[39;49mpos_label,\n\u001b[0;32m   2309\u001b[0m         average\u001b[39m=\u001b[39;49maverage,\n\u001b[0;32m   2310\u001b[0m         warn_for\u001b[39m=\u001b[39;49m(\u001b[39m\"\u001b[39;49m\u001b[39mrecall\u001b[39;49m\u001b[39m\"\u001b[39;49m,),\n\u001b[0;32m   2311\u001b[0m         sample_weight\u001b[39m=\u001b[39;49msample_weight,\n\u001b[0;32m   2312\u001b[0m         zero_division\u001b[39m=\u001b[39;49mzero_division,\n\u001b[0;32m   2313\u001b[0m     )\n\u001b[0;32m   2314\u001b[0m     \u001b[39mreturn\u001b[39;00m r\n",
            "File \u001b[1;32mc:\\Users\\anchi\\OneDrive\\Documents\\GitHub\\finalGroundHog\\venv\\Lib\\site-packages\\sklearn\\utils\\_param_validation.py:187\u001b[0m, in \u001b[0;36mvalidate_params.<locals>.decorator.<locals>.wrapper\u001b[1;34m(*args, **kwargs)\u001b[0m\n\u001b[0;32m    185\u001b[0m global_skip_validation \u001b[39m=\u001b[39m get_config()[\u001b[39m\"\u001b[39m\u001b[39mskip_parameter_validation\u001b[39m\u001b[39m\"\u001b[39m]\n\u001b[0;32m    186\u001b[0m \u001b[39mif\u001b[39;00m global_skip_validation:\n\u001b[1;32m--> 187\u001b[0m     \u001b[39mreturn\u001b[39;00m func(\u001b[39m*\u001b[39;49margs, \u001b[39m*\u001b[39;49m\u001b[39m*\u001b[39;49mkwargs)\n\u001b[0;32m    189\u001b[0m func_sig \u001b[39m=\u001b[39m signature(func)\n\u001b[0;32m    191\u001b[0m \u001b[39m# Map *args/**kwargs to the function signature\u001b[39;00m\n",
            "File \u001b[1;32mc:\\Users\\anchi\\OneDrive\\Documents\\GitHub\\finalGroundHog\\venv\\Lib\\site-packages\\sklearn\\metrics\\_classification.py:1724\u001b[0m, in \u001b[0;36mprecision_recall_fscore_support\u001b[1;34m(y_true, y_pred, beta, labels, pos_label, average, warn_for, sample_weight, zero_division)\u001b[0m\n\u001b[0;32m   1566\u001b[0m \u001b[39m\u001b[39m\u001b[39m\"\"\"Compute precision, recall, F-measure and support for each class.\u001b[39;00m\n\u001b[0;32m   1567\u001b[0m \n\u001b[0;32m   1568\u001b[0m \u001b[39mThe precision is the ratio ``tp / (tp + fp)`` where ``tp`` is the number of\u001b[39;00m\n\u001b[1;32m   (...)\u001b[0m\n\u001b[0;32m   1721\u001b[0m \u001b[39m array([2, 2, 2]))\u001b[39;00m\n\u001b[0;32m   1722\u001b[0m \u001b[39m\"\"\"\u001b[39;00m\n\u001b[0;32m   1723\u001b[0m zero_division_value \u001b[39m=\u001b[39m _check_zero_division(zero_division)\n\u001b[1;32m-> 1724\u001b[0m labels \u001b[39m=\u001b[39m _check_set_wise_labels(y_true, y_pred, average, labels, pos_label)\n\u001b[0;32m   1726\u001b[0m \u001b[39m# Calculate tp_sum, pred_sum, true_sum ###\u001b[39;00m\n\u001b[0;32m   1727\u001b[0m samplewise \u001b[39m=\u001b[39m average \u001b[39m==\u001b[39m \u001b[39m\"\u001b[39m\u001b[39msamples\u001b[39m\u001b[39m\"\u001b[39m\n",
            "File \u001b[1;32mc:\\Users\\anchi\\OneDrive\\Documents\\GitHub\\finalGroundHog\\venv\\Lib\\site-packages\\sklearn\\metrics\\_classification.py:1501\u001b[0m, in \u001b[0;36m_check_set_wise_labels\u001b[1;34m(y_true, y_pred, average, labels, pos_label)\u001b[0m\n\u001b[0;32m   1498\u001b[0m \u001b[39mif\u001b[39;00m average \u001b[39mnot\u001b[39;00m \u001b[39min\u001b[39;00m average_options \u001b[39mand\u001b[39;00m average \u001b[39m!=\u001b[39m \u001b[39m\"\u001b[39m\u001b[39mbinary\u001b[39m\u001b[39m\"\u001b[39m:\n\u001b[0;32m   1499\u001b[0m     \u001b[39mraise\u001b[39;00m \u001b[39mValueError\u001b[39;00m(\u001b[39m\"\u001b[39m\u001b[39maverage has to be one of \u001b[39m\u001b[39m\"\u001b[39m \u001b[39m+\u001b[39m \u001b[39mstr\u001b[39m(average_options))\n\u001b[1;32m-> 1501\u001b[0m y_type, y_true, y_pred \u001b[39m=\u001b[39m _check_targets(y_true, y_pred)\n\u001b[0;32m   1502\u001b[0m \u001b[39m# Convert to Python primitive type to avoid NumPy type / Python str\u001b[39;00m\n\u001b[0;32m   1503\u001b[0m \u001b[39m# comparison. See https://github.com/numpy/numpy/issues/6784\u001b[39;00m\n\u001b[0;32m   1504\u001b[0m present_labels \u001b[39m=\u001b[39m unique_labels(y_true, y_pred)\u001b[39m.\u001b[39mtolist()\n",
            "File \u001b[1;32mc:\\Users\\anchi\\OneDrive\\Documents\\GitHub\\finalGroundHog\\venv\\Lib\\site-packages\\sklearn\\metrics\\_classification.py:93\u001b[0m, in \u001b[0;36m_check_targets\u001b[1;34m(y_true, y_pred)\u001b[0m\n\u001b[0;32m     90\u001b[0m     y_type \u001b[39m=\u001b[39m {\u001b[39m\"\u001b[39m\u001b[39mmulticlass\u001b[39m\u001b[39m\"\u001b[39m}\n\u001b[0;32m     92\u001b[0m \u001b[39mif\u001b[39;00m \u001b[39mlen\u001b[39m(y_type) \u001b[39m>\u001b[39m \u001b[39m1\u001b[39m:\n\u001b[1;32m---> 93\u001b[0m     \u001b[39mraise\u001b[39;00m \u001b[39mValueError\u001b[39;00m(\n\u001b[0;32m     94\u001b[0m         \u001b[39m\"\u001b[39m\u001b[39mClassification metrics can\u001b[39m\u001b[39m'\u001b[39m\u001b[39mt handle a mix of \u001b[39m\u001b[39m{0}\u001b[39;00m\u001b[39m and \u001b[39m\u001b[39m{1}\u001b[39;00m\u001b[39m targets\u001b[39m\u001b[39m\"\u001b[39m\u001b[39m.\u001b[39mformat(\n\u001b[0;32m     95\u001b[0m             type_true, type_pred\n\u001b[0;32m     96\u001b[0m         )\n\u001b[0;32m     97\u001b[0m     )\n\u001b[0;32m     99\u001b[0m \u001b[39m# We can't have more than one value on y_type => The set is no more needed\u001b[39;00m\n\u001b[0;32m    100\u001b[0m y_type \u001b[39m=\u001b[39m y_type\u001b[39m.\u001b[39mpop()\n",
            "\u001b[1;31mValueError\u001b[0m: Classification metrics can't handle a mix of binary and continuous targets"
          ]
        }
      ],
      "source": [
        "from sklearn.metrics import recall_score\n",
        "\n",
        "recall = recall_score(y_val, y_pred, average=None)\n",
        "print(\"Recall for each class:\", recall)\n"
      ]
    },
    {
      "cell_type": "markdown",
      "id": "hApf-iZXQb3p",
      "metadata": {
        "id": "hApf-iZXQb3p"
      },
      "source": [
        "4. F1-Score - harmonic mean of precision and recall and is often used to balance the trade-off between precision and recall"
      ]
    },
    {
      "cell_type": "code",
      "execution_count": 44,
      "id": "P5IcvAcnQlQ-",
      "metadata": {
        "colab": {
          "base_uri": "https://localhost:8080/"
        },
        "id": "P5IcvAcnQlQ-",
        "outputId": "5b8a4259-61f1-455f-8bb9-336db829fc2e"
      },
      "outputs": [
        {
          "ename": "ValueError",
          "evalue": "Classification metrics can't handle a mix of binary and continuous targets",
          "output_type": "error",
          "traceback": [
            "\u001b[1;31m---------------------------------------------------------------------------\u001b[0m",
            "\u001b[1;31mValueError\u001b[0m                                Traceback (most recent call last)",
            "\u001b[1;32mc:\\Users\\anchi\\OneDrive\\Documents\\GitHub\\finalGroundHog\\GroundHog2.ipynb Cell 73\u001b[0m line \u001b[0;36m3\n\u001b[0;32m      <a href='vscode-notebook-cell:/c%3A/Users/anchi/OneDrive/Documents/GitHub/finalGroundHog/GroundHog2.ipynb#Y132sZmlsZQ%3D%3D?line=0'>1</a>\u001b[0m \u001b[39mfrom\u001b[39;00m \u001b[39msklearn\u001b[39;00m\u001b[39m.\u001b[39;00m\u001b[39mmetrics\u001b[39;00m \u001b[39mimport\u001b[39;00m f1_score\n\u001b[1;32m----> <a href='vscode-notebook-cell:/c%3A/Users/anchi/OneDrive/Documents/GitHub/finalGroundHog/GroundHog2.ipynb#Y132sZmlsZQ%3D%3D?line=2'>3</a>\u001b[0m f1 \u001b[39m=\u001b[39m f1_score(y_val, y_pred, average\u001b[39m=\u001b[39;49m\u001b[39mNone\u001b[39;49;00m)\n\u001b[0;32m      <a href='vscode-notebook-cell:/c%3A/Users/anchi/OneDrive/Documents/GitHub/finalGroundHog/GroundHog2.ipynb#Y132sZmlsZQ%3D%3D?line=3'>4</a>\u001b[0m \u001b[39mprint\u001b[39m(\u001b[39m\"\u001b[39m\u001b[39mF1-Score for each class:\u001b[39m\u001b[39m\"\u001b[39m, f1)\n",
            "File \u001b[1;32mc:\\Users\\anchi\\OneDrive\\Documents\\GitHub\\finalGroundHog\\venv\\Lib\\site-packages\\sklearn\\utils\\_param_validation.py:214\u001b[0m, in \u001b[0;36mvalidate_params.<locals>.decorator.<locals>.wrapper\u001b[1;34m(*args, **kwargs)\u001b[0m\n\u001b[0;32m    208\u001b[0m \u001b[39mtry\u001b[39;00m:\n\u001b[0;32m    209\u001b[0m     \u001b[39mwith\u001b[39;00m config_context(\n\u001b[0;32m    210\u001b[0m         skip_parameter_validation\u001b[39m=\u001b[39m(\n\u001b[0;32m    211\u001b[0m             prefer_skip_nested_validation \u001b[39mor\u001b[39;00m global_skip_validation\n\u001b[0;32m    212\u001b[0m         )\n\u001b[0;32m    213\u001b[0m     ):\n\u001b[1;32m--> 214\u001b[0m         \u001b[39mreturn\u001b[39;00m func(\u001b[39m*\u001b[39;49margs, \u001b[39m*\u001b[39;49m\u001b[39m*\u001b[39;49mkwargs)\n\u001b[0;32m    215\u001b[0m \u001b[39mexcept\u001b[39;00m InvalidParameterError \u001b[39mas\u001b[39;00m e:\n\u001b[0;32m    216\u001b[0m     \u001b[39m# When the function is just a wrapper around an estimator, we allow\u001b[39;00m\n\u001b[0;32m    217\u001b[0m     \u001b[39m# the function to delegate validation to the estimator, but we replace\u001b[39;00m\n\u001b[0;32m    218\u001b[0m     \u001b[39m# the name of the estimator by the name of the function in the error\u001b[39;00m\n\u001b[0;32m    219\u001b[0m     \u001b[39m# message to avoid confusion.\u001b[39;00m\n\u001b[0;32m    220\u001b[0m     msg \u001b[39m=\u001b[39m re\u001b[39m.\u001b[39msub(\n\u001b[0;32m    221\u001b[0m         \u001b[39mr\u001b[39m\u001b[39m\"\u001b[39m\u001b[39mparameter of \u001b[39m\u001b[39m\\\u001b[39m\u001b[39mw+ must be\u001b[39m\u001b[39m\"\u001b[39m,\n\u001b[0;32m    222\u001b[0m         \u001b[39mf\u001b[39m\u001b[39m\"\u001b[39m\u001b[39mparameter of \u001b[39m\u001b[39m{\u001b[39;00mfunc\u001b[39m.\u001b[39m\u001b[39m__qualname__\u001b[39m\u001b[39m}\u001b[39;00m\u001b[39m must be\u001b[39m\u001b[39m\"\u001b[39m,\n\u001b[0;32m    223\u001b[0m         \u001b[39mstr\u001b[39m(e),\n\u001b[0;32m    224\u001b[0m     )\n",
            "File \u001b[1;32mc:\\Users\\anchi\\OneDrive\\Documents\\GitHub\\finalGroundHog\\venv\\Lib\\site-packages\\sklearn\\metrics\\_classification.py:1239\u001b[0m, in \u001b[0;36mf1_score\u001b[1;34m(y_true, y_pred, labels, pos_label, average, sample_weight, zero_division)\u001b[0m\n\u001b[0;32m   1070\u001b[0m \u001b[39m@validate_params\u001b[39m(\n\u001b[0;32m   1071\u001b[0m     {\n\u001b[0;32m   1072\u001b[0m         \u001b[39m\"\u001b[39m\u001b[39my_true\u001b[39m\u001b[39m\"\u001b[39m: [\u001b[39m\"\u001b[39m\u001b[39marray-like\u001b[39m\u001b[39m\"\u001b[39m, \u001b[39m\"\u001b[39m\u001b[39msparse matrix\u001b[39m\u001b[39m\"\u001b[39m],\n\u001b[1;32m   (...)\u001b[0m\n\u001b[0;32m   1097\u001b[0m     zero_division\u001b[39m=\u001b[39m\u001b[39m\"\u001b[39m\u001b[39mwarn\u001b[39m\u001b[39m\"\u001b[39m,\n\u001b[0;32m   1098\u001b[0m ):\n\u001b[0;32m   1099\u001b[0m \u001b[39m    \u001b[39m\u001b[39m\"\"\"Compute the F1 score, also known as balanced F-score or F-measure.\u001b[39;00m\n\u001b[0;32m   1100\u001b[0m \n\u001b[0;32m   1101\u001b[0m \u001b[39m    The F1 score can be interpreted as a harmonic mean of the precision and\u001b[39;00m\n\u001b[1;32m   (...)\u001b[0m\n\u001b[0;32m   1237\u001b[0m \u001b[39m    array([0.66666667, 1.        , 0.66666667])\u001b[39;00m\n\u001b[0;32m   1238\u001b[0m \u001b[39m    \"\"\"\u001b[39;00m\n\u001b[1;32m-> 1239\u001b[0m     \u001b[39mreturn\u001b[39;00m fbeta_score(\n\u001b[0;32m   1240\u001b[0m         y_true,\n\u001b[0;32m   1241\u001b[0m         y_pred,\n\u001b[0;32m   1242\u001b[0m         beta\u001b[39m=\u001b[39;49m\u001b[39m1\u001b[39;49m,\n\u001b[0;32m   1243\u001b[0m         labels\u001b[39m=\u001b[39;49mlabels,\n\u001b[0;32m   1244\u001b[0m         pos_label\u001b[39m=\u001b[39;49mpos_label,\n\u001b[0;32m   1245\u001b[0m         average\u001b[39m=\u001b[39;49maverage,\n\u001b[0;32m   1246\u001b[0m         sample_weight\u001b[39m=\u001b[39;49msample_weight,\n\u001b[0;32m   1247\u001b[0m         zero_division\u001b[39m=\u001b[39;49mzero_division,\n\u001b[0;32m   1248\u001b[0m     )\n",
            "File \u001b[1;32mc:\\Users\\anchi\\OneDrive\\Documents\\GitHub\\finalGroundHog\\venv\\Lib\\site-packages\\sklearn\\utils\\_param_validation.py:187\u001b[0m, in \u001b[0;36mvalidate_params.<locals>.decorator.<locals>.wrapper\u001b[1;34m(*args, **kwargs)\u001b[0m\n\u001b[0;32m    185\u001b[0m global_skip_validation \u001b[39m=\u001b[39m get_config()[\u001b[39m\"\u001b[39m\u001b[39mskip_parameter_validation\u001b[39m\u001b[39m\"\u001b[39m]\n\u001b[0;32m    186\u001b[0m \u001b[39mif\u001b[39;00m global_skip_validation:\n\u001b[1;32m--> 187\u001b[0m     \u001b[39mreturn\u001b[39;00m func(\u001b[39m*\u001b[39;49margs, \u001b[39m*\u001b[39;49m\u001b[39m*\u001b[39;49mkwargs)\n\u001b[0;32m    189\u001b[0m func_sig \u001b[39m=\u001b[39m signature(func)\n\u001b[0;32m    191\u001b[0m \u001b[39m# Map *args/**kwargs to the function signature\u001b[39;00m\n",
            "File \u001b[1;32mc:\\Users\\anchi\\OneDrive\\Documents\\GitHub\\finalGroundHog\\venv\\Lib\\site-packages\\sklearn\\metrics\\_classification.py:1413\u001b[0m, in \u001b[0;36mfbeta_score\u001b[1;34m(y_true, y_pred, beta, labels, pos_label, average, sample_weight, zero_division)\u001b[0m\n\u001b[0;32m   1251\u001b[0m \u001b[39m@validate_params\u001b[39m(\n\u001b[0;32m   1252\u001b[0m     {\n\u001b[0;32m   1253\u001b[0m         \u001b[39m\"\u001b[39m\u001b[39my_true\u001b[39m\u001b[39m\"\u001b[39m: [\u001b[39m\"\u001b[39m\u001b[39marray-like\u001b[39m\u001b[39m\"\u001b[39m, \u001b[39m\"\u001b[39m\u001b[39msparse matrix\u001b[39m\u001b[39m\"\u001b[39m],\n\u001b[1;32m   (...)\u001b[0m\n\u001b[0;32m   1280\u001b[0m     zero_division\u001b[39m=\u001b[39m\u001b[39m\"\u001b[39m\u001b[39mwarn\u001b[39m\u001b[39m\"\u001b[39m,\n\u001b[0;32m   1281\u001b[0m ):\n\u001b[0;32m   1282\u001b[0m \u001b[39m    \u001b[39m\u001b[39m\"\"\"Compute the F-beta score.\u001b[39;00m\n\u001b[0;32m   1283\u001b[0m \n\u001b[0;32m   1284\u001b[0m \u001b[39m    The F-beta score is the weighted harmonic mean of precision and recall,\u001b[39;00m\n\u001b[1;32m   (...)\u001b[0m\n\u001b[0;32m   1410\u001b[0m \u001b[39m    0.38...\u001b[39;00m\n\u001b[0;32m   1411\u001b[0m \u001b[39m    \"\"\"\u001b[39;00m\n\u001b[1;32m-> 1413\u001b[0m     _, _, f, _ \u001b[39m=\u001b[39m precision_recall_fscore_support(\n\u001b[0;32m   1414\u001b[0m         y_true,\n\u001b[0;32m   1415\u001b[0m         y_pred,\n\u001b[0;32m   1416\u001b[0m         beta\u001b[39m=\u001b[39;49mbeta,\n\u001b[0;32m   1417\u001b[0m         labels\u001b[39m=\u001b[39;49mlabels,\n\u001b[0;32m   1418\u001b[0m         pos_label\u001b[39m=\u001b[39;49mpos_label,\n\u001b[0;32m   1419\u001b[0m         average\u001b[39m=\u001b[39;49maverage,\n\u001b[0;32m   1420\u001b[0m         warn_for\u001b[39m=\u001b[39;49m(\u001b[39m\"\u001b[39;49m\u001b[39mf-score\u001b[39;49m\u001b[39m\"\u001b[39;49m,),\n\u001b[0;32m   1421\u001b[0m         sample_weight\u001b[39m=\u001b[39;49msample_weight,\n\u001b[0;32m   1422\u001b[0m         zero_division\u001b[39m=\u001b[39;49mzero_division,\n\u001b[0;32m   1423\u001b[0m     )\n\u001b[0;32m   1424\u001b[0m     \u001b[39mreturn\u001b[39;00m f\n",
            "File \u001b[1;32mc:\\Users\\anchi\\OneDrive\\Documents\\GitHub\\finalGroundHog\\venv\\Lib\\site-packages\\sklearn\\utils\\_param_validation.py:187\u001b[0m, in \u001b[0;36mvalidate_params.<locals>.decorator.<locals>.wrapper\u001b[1;34m(*args, **kwargs)\u001b[0m\n\u001b[0;32m    185\u001b[0m global_skip_validation \u001b[39m=\u001b[39m get_config()[\u001b[39m\"\u001b[39m\u001b[39mskip_parameter_validation\u001b[39m\u001b[39m\"\u001b[39m]\n\u001b[0;32m    186\u001b[0m \u001b[39mif\u001b[39;00m global_skip_validation:\n\u001b[1;32m--> 187\u001b[0m     \u001b[39mreturn\u001b[39;00m func(\u001b[39m*\u001b[39;49margs, \u001b[39m*\u001b[39;49m\u001b[39m*\u001b[39;49mkwargs)\n\u001b[0;32m    189\u001b[0m func_sig \u001b[39m=\u001b[39m signature(func)\n\u001b[0;32m    191\u001b[0m \u001b[39m# Map *args/**kwargs to the function signature\u001b[39;00m\n",
            "File \u001b[1;32mc:\\Users\\anchi\\OneDrive\\Documents\\GitHub\\finalGroundHog\\venv\\Lib\\site-packages\\sklearn\\metrics\\_classification.py:1724\u001b[0m, in \u001b[0;36mprecision_recall_fscore_support\u001b[1;34m(y_true, y_pred, beta, labels, pos_label, average, warn_for, sample_weight, zero_division)\u001b[0m\n\u001b[0;32m   1566\u001b[0m \u001b[39m\u001b[39m\u001b[39m\"\"\"Compute precision, recall, F-measure and support for each class.\u001b[39;00m\n\u001b[0;32m   1567\u001b[0m \n\u001b[0;32m   1568\u001b[0m \u001b[39mThe precision is the ratio ``tp / (tp + fp)`` where ``tp`` is the number of\u001b[39;00m\n\u001b[1;32m   (...)\u001b[0m\n\u001b[0;32m   1721\u001b[0m \u001b[39m array([2, 2, 2]))\u001b[39;00m\n\u001b[0;32m   1722\u001b[0m \u001b[39m\"\"\"\u001b[39;00m\n\u001b[0;32m   1723\u001b[0m zero_division_value \u001b[39m=\u001b[39m _check_zero_division(zero_division)\n\u001b[1;32m-> 1724\u001b[0m labels \u001b[39m=\u001b[39m _check_set_wise_labels(y_true, y_pred, average, labels, pos_label)\n\u001b[0;32m   1726\u001b[0m \u001b[39m# Calculate tp_sum, pred_sum, true_sum ###\u001b[39;00m\n\u001b[0;32m   1727\u001b[0m samplewise \u001b[39m=\u001b[39m average \u001b[39m==\u001b[39m \u001b[39m\"\u001b[39m\u001b[39msamples\u001b[39m\u001b[39m\"\u001b[39m\n",
            "File \u001b[1;32mc:\\Users\\anchi\\OneDrive\\Documents\\GitHub\\finalGroundHog\\venv\\Lib\\site-packages\\sklearn\\metrics\\_classification.py:1501\u001b[0m, in \u001b[0;36m_check_set_wise_labels\u001b[1;34m(y_true, y_pred, average, labels, pos_label)\u001b[0m\n\u001b[0;32m   1498\u001b[0m \u001b[39mif\u001b[39;00m average \u001b[39mnot\u001b[39;00m \u001b[39min\u001b[39;00m average_options \u001b[39mand\u001b[39;00m average \u001b[39m!=\u001b[39m \u001b[39m\"\u001b[39m\u001b[39mbinary\u001b[39m\u001b[39m\"\u001b[39m:\n\u001b[0;32m   1499\u001b[0m     \u001b[39mraise\u001b[39;00m \u001b[39mValueError\u001b[39;00m(\u001b[39m\"\u001b[39m\u001b[39maverage has to be one of \u001b[39m\u001b[39m\"\u001b[39m \u001b[39m+\u001b[39m \u001b[39mstr\u001b[39m(average_options))\n\u001b[1;32m-> 1501\u001b[0m y_type, y_true, y_pred \u001b[39m=\u001b[39m _check_targets(y_true, y_pred)\n\u001b[0;32m   1502\u001b[0m \u001b[39m# Convert to Python primitive type to avoid NumPy type / Python str\u001b[39;00m\n\u001b[0;32m   1503\u001b[0m \u001b[39m# comparison. See https://github.com/numpy/numpy/issues/6784\u001b[39;00m\n\u001b[0;32m   1504\u001b[0m present_labels \u001b[39m=\u001b[39m unique_labels(y_true, y_pred)\u001b[39m.\u001b[39mtolist()\n",
            "File \u001b[1;32mc:\\Users\\anchi\\OneDrive\\Documents\\GitHub\\finalGroundHog\\venv\\Lib\\site-packages\\sklearn\\metrics\\_classification.py:93\u001b[0m, in \u001b[0;36m_check_targets\u001b[1;34m(y_true, y_pred)\u001b[0m\n\u001b[0;32m     90\u001b[0m     y_type \u001b[39m=\u001b[39m {\u001b[39m\"\u001b[39m\u001b[39mmulticlass\u001b[39m\u001b[39m\"\u001b[39m}\n\u001b[0;32m     92\u001b[0m \u001b[39mif\u001b[39;00m \u001b[39mlen\u001b[39m(y_type) \u001b[39m>\u001b[39m \u001b[39m1\u001b[39m:\n\u001b[1;32m---> 93\u001b[0m     \u001b[39mraise\u001b[39;00m \u001b[39mValueError\u001b[39;00m(\n\u001b[0;32m     94\u001b[0m         \u001b[39m\"\u001b[39m\u001b[39mClassification metrics can\u001b[39m\u001b[39m'\u001b[39m\u001b[39mt handle a mix of \u001b[39m\u001b[39m{0}\u001b[39;00m\u001b[39m and \u001b[39m\u001b[39m{1}\u001b[39;00m\u001b[39m targets\u001b[39m\u001b[39m\"\u001b[39m\u001b[39m.\u001b[39mformat(\n\u001b[0;32m     95\u001b[0m             type_true, type_pred\n\u001b[0;32m     96\u001b[0m         )\n\u001b[0;32m     97\u001b[0m     )\n\u001b[0;32m     99\u001b[0m \u001b[39m# We can't have more than one value on y_type => The set is no more needed\u001b[39;00m\n\u001b[0;32m    100\u001b[0m y_type \u001b[39m=\u001b[39m y_type\u001b[39m.\u001b[39mpop()\n",
            "\u001b[1;31mValueError\u001b[0m: Classification metrics can't handle a mix of binary and continuous targets"
          ]
        }
      ],
      "source": [
        "from sklearn.metrics import f1_score\n",
        "\n",
        "f1 = f1_score(y_val, y_pred, average=None)\n",
        "print(\"F1-Score for each class:\", f1)\n"
      ]
    },
    {
      "cell_type": "code",
      "execution_count": 45,
      "id": "l9T-zxhuRt_F",
      "metadata": {
        "colab": {
          "base_uri": "https://localhost:8080/",
          "height": 146
        },
        "id": "l9T-zxhuRt_F",
        "outputId": "486a1936-00c8-4bc2-b5d6-6a46691b40e3"
      },
      "outputs": [
        {
          "name": "stdout",
          "output_type": "stream",
          "text": [
            "Best hyperparameters: {'max_depth': None, 'min_samples_leaf': 2, 'min_samples_split': 2, 'n_estimators': 200}\n"
          ]
        },
        {
          "data": {
            "text/html": [
              "<style>#sk-container-id-2 {color: black;}#sk-container-id-2 pre{padding: 0;}#sk-container-id-2 div.sk-toggleable {background-color: white;}#sk-container-id-2 label.sk-toggleable__label {cursor: pointer;display: block;width: 100%;margin-bottom: 0;padding: 0.3em;box-sizing: border-box;text-align: center;}#sk-container-id-2 label.sk-toggleable__label-arrow:before {content: \"▸\";float: left;margin-right: 0.25em;color: #696969;}#sk-container-id-2 label.sk-toggleable__label-arrow:hover:before {color: black;}#sk-container-id-2 div.sk-estimator:hover label.sk-toggleable__label-arrow:before {color: black;}#sk-container-id-2 div.sk-toggleable__content {max-height: 0;max-width: 0;overflow: hidden;text-align: left;background-color: #f0f8ff;}#sk-container-id-2 div.sk-toggleable__content pre {margin: 0.2em;color: black;border-radius: 0.25em;background-color: #f0f8ff;}#sk-container-id-2 input.sk-toggleable__control:checked~div.sk-toggleable__content {max-height: 200px;max-width: 100%;overflow: auto;}#sk-container-id-2 input.sk-toggleable__control:checked~label.sk-toggleable__label-arrow:before {content: \"▾\";}#sk-container-id-2 div.sk-estimator input.sk-toggleable__control:checked~label.sk-toggleable__label {background-color: #d4ebff;}#sk-container-id-2 div.sk-label input.sk-toggleable__control:checked~label.sk-toggleable__label {background-color: #d4ebff;}#sk-container-id-2 input.sk-hidden--visually {border: 0;clip: rect(1px 1px 1px 1px);clip: rect(1px, 1px, 1px, 1px);height: 1px;margin: -1px;overflow: hidden;padding: 0;position: absolute;width: 1px;}#sk-container-id-2 div.sk-estimator {font-family: monospace;background-color: #f0f8ff;border: 1px dotted black;border-radius: 0.25em;box-sizing: border-box;margin-bottom: 0.5em;}#sk-container-id-2 div.sk-estimator:hover {background-color: #d4ebff;}#sk-container-id-2 div.sk-parallel-item::after {content: \"\";width: 100%;border-bottom: 1px solid gray;flex-grow: 1;}#sk-container-id-2 div.sk-label:hover label.sk-toggleable__label {background-color: #d4ebff;}#sk-container-id-2 div.sk-serial::before {content: \"\";position: absolute;border-left: 1px solid gray;box-sizing: border-box;top: 0;bottom: 0;left: 50%;z-index: 0;}#sk-container-id-2 div.sk-serial {display: flex;flex-direction: column;align-items: center;background-color: white;padding-right: 0.2em;padding-left: 0.2em;position: relative;}#sk-container-id-2 div.sk-item {position: relative;z-index: 1;}#sk-container-id-2 div.sk-parallel {display: flex;align-items: stretch;justify-content: center;background-color: white;position: relative;}#sk-container-id-2 div.sk-item::before, #sk-container-id-2 div.sk-parallel-item::before {content: \"\";position: absolute;border-left: 1px solid gray;box-sizing: border-box;top: 0;bottom: 0;left: 50%;z-index: -1;}#sk-container-id-2 div.sk-parallel-item {display: flex;flex-direction: column;z-index: 1;position: relative;background-color: white;}#sk-container-id-2 div.sk-parallel-item:first-child::after {align-self: flex-end;width: 50%;}#sk-container-id-2 div.sk-parallel-item:last-child::after {align-self: flex-start;width: 50%;}#sk-container-id-2 div.sk-parallel-item:only-child::after {width: 0;}#sk-container-id-2 div.sk-dashed-wrapped {border: 1px dashed gray;margin: 0 0.4em 0.5em 0.4em;box-sizing: border-box;padding-bottom: 0.4em;background-color: white;}#sk-container-id-2 div.sk-label label {font-family: monospace;font-weight: bold;display: inline-block;line-height: 1.2em;}#sk-container-id-2 div.sk-label-container {text-align: center;}#sk-container-id-2 div.sk-container {/* jupyter's `normalize.less` sets `[hidden] { display: none; }` but bootstrap.min.css set `[hidden] { display: none !important; }` so we also need the `!important` here to be able to override the default hidden behavior on the sphinx rendered scikit-learn.org. See: https://github.com/scikit-learn/scikit-learn/issues/21755 */display: inline-block !important;position: relative;}#sk-container-id-2 div.sk-text-repr-fallback {display: none;}</style><div id=\"sk-container-id-2\" class=\"sk-top-container\"><div class=\"sk-text-repr-fallback\"><pre>RandomForestClassifier(min_samples_leaf=2, n_estimators=200, random_state=42)</pre><b>In a Jupyter environment, please rerun this cell to show the HTML representation or trust the notebook. <br />On GitHub, the HTML representation is unable to render, please try loading this page with nbviewer.org.</b></div><div class=\"sk-container\" hidden><div class=\"sk-item\"><div class=\"sk-estimator sk-toggleable\"><input class=\"sk-toggleable__control sk-hidden--visually\" id=\"sk-estimator-id-2\" type=\"checkbox\" checked><label for=\"sk-estimator-id-2\" class=\"sk-toggleable__label sk-toggleable__label-arrow\">RandomForestClassifier</label><div class=\"sk-toggleable__content\"><pre>RandomForestClassifier(min_samples_leaf=2, n_estimators=200, random_state=42)</pre></div></div></div></div></div>"
            ],
            "text/plain": [
              "RandomForestClassifier(min_samples_leaf=2, n_estimators=200, random_state=42)"
            ]
          },
          "execution_count": 45,
          "metadata": {},
          "output_type": "execute_result"
        }
      ],
      "source": [
        "from sklearn.model_selection import GridSearchCV\n",
        "\n",
        "param_grid = {\n",
        "    'n_estimators': [50, 100, 200],\n",
        "    'max_depth': [None, 10, 20, 30],\n",
        "    'min_samples_split': [2, 5, 10],\n",
        "    'min_samples_leaf': [1, 2, 4]\n",
        "}\n",
        "\n",
        "grid_search = GridSearchCV(estimator=RandomForestClassifier(random_state=42), param_grid=param_grid, cv=5, scoring='accuracy')\n",
        "grid_search.fit(X_train, y_train)\n",
        "\n",
        "# Get the best hyperparameters\n",
        "best_params = grid_search.best_params_\n",
        "print(\"Best hyperparameters:\", best_params)\n",
        "\n",
        "# Train the final model with the best hyperparameters\n",
        "best_model = grid_search.best_estimator_\n",
        "best_model.fit(X_train, y_train)\n"
      ]
    },
    {
      "cell_type": "markdown",
      "id": "hR3nqZldUJ3-",
      "metadata": {
        "id": "hR3nqZldUJ3-"
      },
      "source": [
        "* Based on the model's prediction, the result is 'Full Shadow'"
      ]
    },
    {
      "cell_type": "code",
      "execution_count": 46,
      "id": "AR1l27CITGt3",
      "metadata": {
        "colab": {
          "base_uri": "https://localhost:8080/"
        },
        "id": "AR1l27CITGt3",
        "outputId": "a5d9eff7-4a76-454e-f863-bc1938e84754"
      },
      "outputs": [
        {
          "name": "stdout",
          "output_type": "stream",
          "text": [
            "1/1 [==============================] - 0s 21ms/step\n",
            "Predicted Shadow: [0.00031318]\n"
          ]
        }
      ],
      "source": [
        "new_data = pd.DataFrame({\n",
        "    'Year': [2023],\n",
        "    'February Average Temperature': [40.0],\n",
        "    'February Average Temperature (Northeast)': [38.0],\n",
        "    'February Average Temperature (Midwest)': [42.0],\n",
        "    'February Average Temperature (Pennsylvania)': [41.0],\n",
        "    'March Average Temperature': [45.0],\n",
        "    'March Average Temperature (Northeast)': [43.0],\n",
        "    'March Average Temperature (Midwest)': [47.0],\n",
        "    'March Average Temperature (Pennsylvania)': [46.0]\n",
        "})\n",
        "\n",
        "predicted_class = model.predict(new_data)\n",
        "\n",
        "print(\"Predicted Shadow:\", predicted_class[0])\n"
      ]
    },
    {
      "cell_type": "markdown",
      "id": "h63pRmlkWNo8",
      "metadata": {
        "id": "h63pRmlkWNo8"
      },
      "source": [
        "# Saving and Loading Models with Joblib"
      ]
    },
    {
      "cell_type": "code",
      "execution_count": 47,
      "id": "HtxVF0dIfsrI",
      "metadata": {
        "colab": {
          "base_uri": "https://localhost:8080/"
        },
        "id": "HtxVF0dIfsrI",
        "outputId": "dc091d3d-680e-4064-885a-b9d3441e8398"
      },
      "outputs": [
        {
          "data": {
            "text/plain": [
              "['groundHog_model.pkl']"
            ]
          },
          "execution_count": 47,
          "metadata": {},
          "output_type": "execute_result"
        }
      ],
      "source": [
        "\n",
        "# export model for API\n",
        "import joblib\n",
        "\n",
        "# Save the trained model to a file\n",
        "joblib.dump(model, 'groundHog_model.pkl')\n",
        "\n"
      ]
    },
    {
      "cell_type": "markdown",
      "id": "4jQPMcB4f73Y",
      "metadata": {
        "id": "4jQPMcB4f73Y"
      },
      "source": [
        "**If you you want to load the trained model using 'joblib.load()' function:**"
      ]
    },
    {
      "cell_type": "code",
      "execution_count": null,
      "id": "VO-djnF0gFQh",
      "metadata": {
        "id": "VO-djnF0gFQh"
      },
      "outputs": [],
      "source": [
        "# Load the trained model from the saved file\n",
        "# loaded_model = joblib.load('your_model_filename.pkl')"
      ]
    }
  ],
  "metadata": {
    "colab": {
      "collapsed_sections": [
        "Z2yQz4ZxqzoU",
        "6SJwTlICqlBV",
        "_ie8mo0UDHyu",
        "FYYXhUwFDtoe",
        "FCYClQFiYtxu",
        "-bxDUyoJHVvn"
      ],
      "provenance": []
    },
    "kernelspec": {
      "display_name": "Python 3 (ipykernel)",
      "language": "python",
      "name": "python3"
    },
    "language_info": {
      "codemirror_mode": {
        "name": "ipython",
        "version": 3
      },
      "file_extension": ".py",
      "mimetype": "text/x-python",
      "name": "python",
      "nbconvert_exporter": "python",
      "pygments_lexer": "ipython3",
      "version": "3.11.4"
    }
  },
  "nbformat": 4,
  "nbformat_minor": 5
}
